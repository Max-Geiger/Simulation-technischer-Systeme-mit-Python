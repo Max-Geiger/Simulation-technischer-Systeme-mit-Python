{
 "cells": [
  {
   "cell_type": "code",
   "execution_count": 18,
   "metadata": {},
   "outputs": [],
   "source": [
    "#Imports:\n",
    "import numpy as np\n",
    "import matplotlib.pyplot as plt\n",
    "from math import *\n",
    "from openpyxl import load_workbook\n",
    "import matplotlib.pyplot as plt\n",
    "import cv2"
   ]
  },
  {
   "cell_type": "code",
   "execution_count": 55,
   "metadata": {},
   "outputs": [
    {
     "name": "stdout",
     "output_type": "stream",
     "text": [
      "[0. 0. 0.]\n"
     ]
    }
   ],
   "source": [
    "x1 = np.linspace(0,50,101) # 101 Werte gleichverteilt zwischen 0 und 50\n",
    "x2 = np.arange(1,50,1) # Werte von 1 bis 50 - 1 mit einem Abstand von 1\n",
    "\n",
    "#Arrays= Vektor\n",
    "n=3\n",
    "a=np.zeros(n) \n",
    "a=np.ones(n) \n",
    "a=np.empty(n)\n",
    "vektor1 = np.array([0,1,2,3])\n",
    "print(a)\n",
    "\n",
    "# Matrix\n",
    "data1=np.zeros((2, 3))\n",
    "r= [1, 2, 3, 4]\n",
    "data=np.array(r)\n",
    "type(data)\n",
    "#data.ndim1\n",
    "#data.shape(4,)\n",
    "#data.size4\n",
    "matrix1 = np.array([[1,2,3,5],[4,5,6,8],[7,8,9,1]])\n",
    "\n",
    "#Diagonalmatrix mit Einträgen\n",
    "a = np.array([1,2,3,4])\n",
    "d = np.diag(a)\n",
    "#print(d)\n",
    "\n",
    "# Transponieren\n",
    "matrix3 = np.transpose(matrix1) # Array transponieren\n",
    "matrix3 = matrix1.T\n"
   ]
  },
  {
   "cell_type": "code",
   "execution_count": 8,
   "metadata": {},
   "outputs": [
    {
     "name": "stdout",
     "output_type": "stream",
     "text": [
      "x=[ 0.   0.5  1.   1.5  2.   2.5  3.   3.5  4.   4.5  5.   5.5  6.   6.5\n",
      "  7.   7.5  8.   8.5  9.   9.5 10.  10.5 11.  11.5 12.  12.5 13.  13.5\n",
      " 14.  14.5 15.  15.5 16.  16.5 17.  17.5 18.  18.5 19.  19.5 20.  20.5\n",
      " 21.  21.5 22.  22.5 23.  23.5 24.  24.5 25.  25.5 26.  26.5 27.  27.5\n",
      " 28.  28.5 29.  29.5 30.  30.5 31.  31.5 32.  32.5 33.  33.5 34.  34.5\n",
      " 35.  35.5 36.  36.5 37.  37.5 38.  38.5 39.  39.5 40.  40.5 41.  41.5\n",
      " 42.  42.5 43.  43.5 44.  44.5 45.  45.5 46.  46.5 47.  47.5 48.  48.5\n",
      " 49.  49.5 50. ], y=[ 1  2  3  4  5  6  7  8  9 10 11 12 13 14 15 16 17 18 19 20 21 22 23 24\n",
      " 25 26 27 28 29 30 31 32 33 34 35 36 37 38 39 40 41 42 43 44 45 46 47 48\n",
      " 49]\n"
     ]
    }
   ],
   "source": [
    "# Formatierte Ausgabe von f Strings:\n",
    "print(f'x={x1}, y={x2}')\n",
    "#print(f'x={x1:.2}, y={x2:.2}')\n",
    "\n",
    "# \\t : (horizontaler) Tab\n",
    "# \\n : Neue Zeile\n",
    "# \\\" : Doppelte Anführungszeichen"
   ]
  },
  {
   "cell_type": "code",
   "execution_count": 3,
   "metadata": {},
   "outputs": [],
   "source": [
    "# if-Bedingung\n",
    "Variable = True\n",
    "Variable2 = False\n",
    "if Variable == True:\n",
    "    pass\n",
    "elif Variable2 == False:\n",
    "    pass\n",
    "else:\n",
    "    pass\n"
   ]
  },
  {
   "cell_type": "code",
   "execution_count": 43,
   "metadata": {},
   "outputs": [
    {
     "name": "stdout",
     "output_type": "stream",
     "text": [
      "Die mittlere Temperatur beträgt  3.81 Grad C\n"
     ]
    },
    {
     "ename": "FileNotFoundError",
     "evalue": "[Errno 2] No such file or directory: 'data1.txt'",
     "output_type": "error",
     "traceback": [
      "\u001b[1;31m---------------------------------------------------------------------------\u001b[0m",
      "\u001b[1;31mFileNotFoundError\u001b[0m                         Traceback (most recent call last)",
      "\u001b[1;32me:\\Programme (HDD)\\Python\\Repository_Simulation teschnishcer Systeme\\Simulation-technischer-Systeme-mit-Python\\Formelsammlung.ipynb Cell 5\u001b[0m in \u001b[0;36m<module>\u001b[1;34m\u001b[0m\n\u001b[0;32m     <a href='vscode-notebook-cell:/e%3A/Programme%20%28HDD%29/Python/Repository_Simulation%20teschnishcer%20Systeme/Simulation-technischer-Systeme-mit-Python/Formelsammlung.ipynb#W3sZmlsZQ%3D%3D?line=15'>16</a>\u001b[0m \u001b[39mprint\u001b[39m(\u001b[39m'\u001b[39m\u001b[39mDie mittlere Temperatur beträgt \u001b[39m\u001b[39m%5.2f\u001b[39;00m\u001b[39m Grad C\u001b[39m\u001b[39m'\u001b[39m \u001b[39m%\u001b[39mmean)\n\u001b[0;32m     <a href='vscode-notebook-cell:/e%3A/Programme%20%28HDD%29/Python/Repository_Simulation%20teschnishcer%20Systeme/Simulation-technischer-Systeme-mit-Python/Formelsammlung.ipynb#W3sZmlsZQ%3D%3D?line=19'>20</a>\u001b[0m \u001b[39m# while-Schleifen:\u001b[39;00m\n\u001b[0;32m     <a href='vscode-notebook-cell:/e%3A/Programme%20%28HDD%29/Python/Repository_Simulation%20teschnishcer%20Systeme/Simulation-technischer-Systeme-mit-Python/Formelsammlung.ipynb#W3sZmlsZQ%3D%3D?line=20'>21</a>\u001b[0m \u001b[39m# while x1.all != 10: \u001b[39;00m\n\u001b[0;32m     <a href='vscode-notebook-cell:/e%3A/Programme%20%28HDD%29/Python/Repository_Simulation%20teschnishcer%20Systeme/Simulation-technischer-Systeme-mit-Python/Formelsammlung.ipynb#W3sZmlsZQ%3D%3D?line=21'>22</a>\u001b[0m \u001b[39m#     pass\u001b[39;00m\n\u001b[1;32m   (...)\u001b[0m\n\u001b[0;32m     <a href='vscode-notebook-cell:/e%3A/Programme%20%28HDD%29/Python/Repository_Simulation%20teschnishcer%20Systeme/Simulation-technischer-Systeme-mit-Python/Formelsammlung.ipynb#W3sZmlsZQ%3D%3D?line=25'>26</a>\u001b[0m \n\u001b[0;32m     <a href='vscode-notebook-cell:/e%3A/Programme%20%28HDD%29/Python/Repository_Simulation%20teschnishcer%20Systeme/Simulation-technischer-Systeme-mit-Python/Formelsammlung.ipynb#W3sZmlsZQ%3D%3D?line=26'>27</a>\u001b[0m \u001b[39m#bsp:\u001b[39;00m\n\u001b[1;32m---> <a href='vscode-notebook-cell:/e%3A/Programme%20%28HDD%29/Python/Repository_Simulation%20teschnishcer%20Systeme/Simulation-technischer-Systeme-mit-Python/Formelsammlung.ipynb#W3sZmlsZQ%3D%3D?line=27'>28</a>\u001b[0m infile\u001b[39m=\u001b[39m\u001b[39mopen\u001b[39;49m(\u001b[39m'\u001b[39;49m\u001b[39mdata1.txt\u001b[39;49m\u001b[39m'\u001b[39;49m,\u001b[39m'\u001b[39;49m\u001b[39mr\u001b[39;49m\u001b[39m'\u001b[39;49m)\n\u001b[0;32m     <a href='vscode-notebook-cell:/e%3A/Programme%20%28HDD%29/Python/Repository_Simulation%20teschnishcer%20Systeme/Simulation-technischer-Systeme-mit-Python/Formelsammlung.ipynb#W3sZmlsZQ%3D%3D?line=28'>29</a>\u001b[0m mean\u001b[39m=\u001b[39m\u001b[39m0\u001b[39m\n\u001b[0;32m     <a href='vscode-notebook-cell:/e%3A/Programme%20%28HDD%29/Python/Repository_Simulation%20teschnishcer%20Systeme/Simulation-technischer-Systeme-mit-Python/Formelsammlung.ipynb#W3sZmlsZQ%3D%3D?line=29'>30</a>\u001b[0m n\u001b[39m=\u001b[39m\u001b[39m0\u001b[39m\n",
      "\u001b[1;31mFileNotFoundError\u001b[0m: [Errno 2] No such file or directory: 'data1.txt'"
     ]
    }
   ],
   "source": [
    "# Schleifen:\n",
    "\n",
    "# for-Schleife:\n",
    "for i in x1:\n",
    "    pass\n",
    "else:\n",
    "    pass\n",
    "\n",
    "#bsp\n",
    "# Bestimmung der mittleren Temperatur\n",
    "temp=[21.8, 18.1, 20, 23, 26, 17.8]\n",
    "mean=0.0\n",
    "for i in range(0,len(temp)):\n",
    "    mean+=temp[i]\n",
    "    mean=mean/len(temp)\n",
    "print('Die mittlere Temperatur beträgt %5.2f Grad C' %mean)\n",
    "\n",
    "\n",
    "\n",
    "# while-Schleifen:\n",
    "# while x1.all != 10: \n",
    "#     pass\n",
    "# else:\n",
    "#     pass\n",
    "\n",
    "\n",
    "#bsp:\n",
    "infile=open('data1.txt','r')\n",
    "mean=0\n",
    "n=0\n",
    "while True:\n",
    "    line=infile.readline()\n",
    "    if not line:\n",
    "        break\n",
    "    mean+=float(line)\n",
    "    n+=1\n",
    "mean=mean/n\n",
    "print('Der Mittelwert beträgt %6.2f' % mean)\n",
    "infile.close()"
   ]
  },
  {
   "cell_type": "code",
   "execution_count": 21,
   "metadata": {},
   "outputs": [],
   "source": [
    "# Listen\n",
    "Liste = [] # Erstellt leere Liste\n",
    "Liste1 = Liste.copy() # Kopieren einer liste\n",
    "Liste.append(2)\n",
    "Liste.extend([2,3,4]) # Einzeleinträge hinzu\n",
    "Liste.insert(2,'hallo') # Hinzufügen an beliebigen Ort\n",
    "Liste.remove(2) # entfernt ersten Eintrag “2”\n",
    "Liste[1] # Zugriff auf Eintrag 1\n",
    "Liste[4:] # Zugriff auf Eintrag 4 und folgend\n",
    "Liste[0:2] # Zeige die ersten beiden Einträge\n",
    "Liste1.count(2) # Zählen von Einträgen in Liste\n",
    "Liste1.sort() # Sortieren der Liste\n",
    "ListeSort = sorted(Liste1) # Alternativer Aufruf\n",
    "Liste1.reverse() # umdrehen einer Liste\n",
    "Liste.clear() # Entfernt alle Einträge"
   ]
  },
  {
   "cell_type": "code",
   "execution_count": 46,
   "metadata": {},
   "outputs": [
    {
     "name": "stdout",
     "output_type": "stream",
     "text": [
      "[0. 0. 0.]\n"
     ]
    }
   ],
   "source": []
  },
  {
   "cell_type": "code",
   "execution_count": 22,
   "metadata": {},
   "outputs": [],
   "source": [
    "# Tupel\n",
    "Tuple1 = (1,2,3)\n",
    "Tuple2 = tuple(Liste) # Tupel aus Liste erstellen"
   ]
  },
  {
   "cell_type": "code",
   "execution_count": 23,
   "metadata": {},
   "outputs": [
    {
     "data": {
      "text/plain": [
       "2010"
      ]
     },
     "execution_count": 23,
     "metadata": {},
     "output_type": "execute_result"
    }
   ],
   "source": [
    "#Dictionarys\n",
    "Auto1 = { 'Marke': 'BMW',\n",
    "'Modell': 'Q5',\n",
    "'Baujahr': 2010}\n",
    "Auto2 = dict(Marke='Audi', Modell='A3', Baujahr=1994)\n",
    "\n",
    "Auto3 = Auto1.copy()\n",
    "Auto3['Modell'] = 'Q7'\n",
    "Auto3.pop(\"Baujahr\") # Entferne Baujahr"
   ]
  },
  {
   "cell_type": "code",
   "execution_count": 24,
   "metadata": {},
   "outputs": [],
   "source": [
    "#Number type Conversion\n",
    "z1 = int(2.0)\n",
    "z2 = float(5)\n",
    "z3 = complex(4)\n",
    "z4 = complex(4,2)\n",
    "z5 = hex(12445)"
   ]
  },
  {
   "cell_type": "code",
   "execution_count": 25,
   "metadata": {},
   "outputs": [
    {
     "ename": "FileNotFoundError",
     "evalue": "[Errno 2] No such file or directory: 'C:\\\\........\\\\data_export.txt'",
     "output_type": "error",
     "traceback": [
      "\u001b[1;31m---------------------------------------------------------------------------\u001b[0m",
      "\u001b[1;31mFileNotFoundError\u001b[0m                         Traceback (most recent call last)",
      "\u001b[1;32me:\\Programme (HDD)\\Python\\Repository_Simulation teschnishcer Systeme\\Simulation-technischer-Systeme-mit-Python\\Formelsammlung.ipynb Cell 10\u001b[0m in \u001b[0;36m<module>\u001b[1;34m\u001b[0m\n\u001b[0;32m      <a href='vscode-notebook-cell:/e%3A/Programme%20%28HDD%29/Python/Repository_Simulation%20teschnishcer%20Systeme/Simulation-technischer-Systeme-mit-Python/Formelsammlung.ipynb#X12sZmlsZQ%3D%3D?line=0'>1</a>\u001b[0m \u001b[39m# Datei einlesen\u001b[39;00m\n\u001b[1;32m----> <a href='vscode-notebook-cell:/e%3A/Programme%20%28HDD%29/Python/Repository_Simulation%20teschnishcer%20Systeme/Simulation-technischer-Systeme-mit-Python/Formelsammlung.ipynb#X12sZmlsZQ%3D%3D?line=1'>2</a>\u001b[0m infile \u001b[39m=\u001b[39m \u001b[39mopen\u001b[39;49m(\u001b[39mr\u001b[39;49m\u001b[39m'\u001b[39;49m\u001b[39mC:\u001b[39;49m\u001b[39m\\\u001b[39;49m\u001b[39m........\u001b[39;49m\u001b[39m\\\u001b[39;49m\u001b[39mdata_export.txt\u001b[39;49m\u001b[39m'\u001b[39;49m,\u001b[39m'\u001b[39;49m\u001b[39mr\u001b[39;49m\u001b[39m'\u001b[39;49m)\n\u001b[0;32m      <a href='vscode-notebook-cell:/e%3A/Programme%20%28HDD%29/Python/Repository_Simulation%20teschnishcer%20Systeme/Simulation-technischer-Systeme-mit-Python/Formelsammlung.ipynb#X12sZmlsZQ%3D%3D?line=2'>3</a>\u001b[0m \u001b[39mfor\u001b[39;00m line \u001b[39min\u001b[39;00m infile:\n\u001b[0;32m      <a href='vscode-notebook-cell:/e%3A/Programme%20%28HDD%29/Python/Repository_Simulation%20teschnishcer%20Systeme/Simulation-technischer-Systeme-mit-Python/Formelsammlung.ipynb#X12sZmlsZQ%3D%3D?line=3'>4</a>\u001b[0m     \u001b[39mprint\u001b[39m(line)\n",
      "\u001b[1;31mFileNotFoundError\u001b[0m: [Errno 2] No such file or directory: 'C:\\\\........\\\\data_export.txt'"
     ]
    }
   ],
   "source": [
    "# Datei einlesen\n",
    "infile = open(r'C:\\........\\data_export.txt','r')\n",
    "for line in infile:\n",
    "    print(line)\n",
    "\n",
    "#r Datei ist ein Eingabefile, d.h. zum Lesen bestimmt\n",
    "#w Datei ist eine Ausgabedatei, d.h. zum Schreiben bestimmt\n",
    "#a Datei zumAnhängen neuer Daten an die bestehende Datei\n",
    "#rb Öffnen einer Dateiim Binärmodus zum Einlesen\n",
    "#wb Öffnen einer Datei im Binärmodus zum Schreiben\n",
    "\n",
    "# und Schreiben\n",
    "infile = open(r'C:\\..........\\data_export_out.txt','w')\n",
    "for i in range(20):\n",
    "    infile.write(str(i)+'daten\\t')\n",
    "infile.close()"
   ]
  },
  {
   "cell_type": "code",
   "execution_count": 41,
   "metadata": {},
   "outputs": [
    {
     "ename": "SyntaxError",
     "evalue": "name 'a' is parameter and global (Temp/ipykernel_15672/3469560748.py, line 4)",
     "output_type": "error",
     "traceback": [
      "\u001b[1;36m  Input \u001b[1;32mIn [41]\u001b[1;36m\u001b[0m\n\u001b[1;33m    global a #Greift auf globale Variable zu\u001b[0m\n\u001b[1;37m    ^\u001b[0m\n\u001b[1;31mSyntaxError\u001b[0m\u001b[1;31m:\u001b[0m name 'a' is parameter and global\n"
     ]
    }
   ],
   "source": [
    "# Funktionen\n",
    "a = 2 #Glöobale Variable\n",
    "def Add(x,a=1,b=2,c=3):\n",
    "    #global a #Greift auf globale Variable zu\n",
    "    #a = 2\n",
    "    z = 4 # lokale Variable\n",
    "    k=x+a+b+c+z\n",
    "    return k, x\n",
    "\n",
    "print(Add(3))\n",
    "y,x = Add(3)\n",
    "print(f'y = {y}\\nx = {x}')"
   ]
  },
  {
   "cell_type": "code",
   "execution_count": 39,
   "metadata": {},
   "outputs": [
    {
     "ename": "ValueError",
     "evalue": "x and y must have same first dimension, but have shapes (1,) and (2,)",
     "output_type": "error",
     "traceback": [
      "\u001b[1;31m---------------------------------------------------------------------------\u001b[0m",
      "\u001b[1;31mValueError\u001b[0m                                Traceback (most recent call last)",
      "\u001b[1;32me:\\Programme (HDD)\\Python\\Repository_Simulation teschnishcer Systeme\\Simulation-technischer-Systeme-mit-Python\\Formelsammlung.ipynb Cell 12\u001b[0m in \u001b[0;36m<module>\u001b[1;34m\u001b[0m\n\u001b[0;32m      <a href='vscode-notebook-cell:/e%3A/Programme%20%28HDD%29/Python/Repository_Simulation%20teschnishcer%20Systeme/Simulation-technischer-Systeme-mit-Python/Formelsammlung.ipynb#X14sZmlsZQ%3D%3D?line=0'>1</a>\u001b[0m \u001b[39m# Plotten\u001b[39;00m\n\u001b[1;32m----> <a href='vscode-notebook-cell:/e%3A/Programme%20%28HDD%29/Python/Repository_Simulation%20teschnishcer%20Systeme/Simulation-technischer-Systeme-mit-Python/Formelsammlung.ipynb#X14sZmlsZQ%3D%3D?line=1'>2</a>\u001b[0m plt\u001b[39m.\u001b[39;49mplot(x,Add(\u001b[39m3\u001b[39;49m),label\u001b[39m=\u001b[39;49m\u001b[39m\"\u001b[39;49m\u001b[39my\u001b[39;49m\u001b[39m\"\u001b[39;49m) \u001b[39m#Hier werden die Werte zum Plotten übergeben \u001b[39;00m\n\u001b[0;32m      <a href='vscode-notebook-cell:/e%3A/Programme%20%28HDD%29/Python/Repository_Simulation%20teschnishcer%20Systeme/Simulation-technischer-Systeme-mit-Python/Formelsammlung.ipynb#X14sZmlsZQ%3D%3D?line=2'>3</a>\u001b[0m plt\u001b[39m.\u001b[39mlegend() \n\u001b[0;32m      <a href='vscode-notebook-cell:/e%3A/Programme%20%28HDD%29/Python/Repository_Simulation%20teschnishcer%20Systeme/Simulation-technischer-Systeme-mit-Python/Formelsammlung.ipynb#X14sZmlsZQ%3D%3D?line=3'>4</a>\u001b[0m plt\u001b[39m.\u001b[39mgrid() \n",
      "File \u001b[1;32mc:\\Users\\Max Geiger\\AppData\\Local\\Programs\\Python\\Python310\\lib\\site-packages\\matplotlib\\pyplot.py:3019\u001b[0m, in \u001b[0;36mplot\u001b[1;34m(scalex, scaley, data, *args, **kwargs)\u001b[0m\n\u001b[0;32m   3017\u001b[0m \u001b[39m@_copy_docstring_and_deprecators\u001b[39m(Axes\u001b[39m.\u001b[39mplot)\n\u001b[0;32m   3018\u001b[0m \u001b[39mdef\u001b[39;00m \u001b[39mplot\u001b[39m(\u001b[39m*\u001b[39margs, scalex\u001b[39m=\u001b[39m\u001b[39mTrue\u001b[39;00m, scaley\u001b[39m=\u001b[39m\u001b[39mTrue\u001b[39;00m, data\u001b[39m=\u001b[39m\u001b[39mNone\u001b[39;00m, \u001b[39m*\u001b[39m\u001b[39m*\u001b[39mkwargs):\n\u001b[1;32m-> 3019\u001b[0m     \u001b[39mreturn\u001b[39;00m gca()\u001b[39m.\u001b[39mplot(\n\u001b[0;32m   3020\u001b[0m         \u001b[39m*\u001b[39margs, scalex\u001b[39m=\u001b[39mscalex, scaley\u001b[39m=\u001b[39mscaley,\n\u001b[0;32m   3021\u001b[0m         \u001b[39m*\u001b[39m\u001b[39m*\u001b[39m({\u001b[39m\"\u001b[39m\u001b[39mdata\u001b[39m\u001b[39m\"\u001b[39m: data} \u001b[39mif\u001b[39;00m data \u001b[39mis\u001b[39;00m \u001b[39mnot\u001b[39;00m \u001b[39mNone\u001b[39;00m \u001b[39melse\u001b[39;00m {}), \u001b[39m*\u001b[39m\u001b[39m*\u001b[39mkwargs)\n",
      "File \u001b[1;32mc:\\Users\\Max Geiger\\AppData\\Local\\Programs\\Python\\Python310\\lib\\site-packages\\matplotlib\\axes\\_axes.py:1605\u001b[0m, in \u001b[0;36mAxes.plot\u001b[1;34m(self, scalex, scaley, data, *args, **kwargs)\u001b[0m\n\u001b[0;32m   1363\u001b[0m \u001b[39m\"\"\"\u001b[39;00m\n\u001b[0;32m   1364\u001b[0m \u001b[39mPlot y versus x as lines and/or markers.\u001b[39;00m\n\u001b[0;32m   1365\u001b[0m \n\u001b[1;32m   (...)\u001b[0m\n\u001b[0;32m   1602\u001b[0m \u001b[39m(``'green'``) or hex strings (``'#008000'``).\u001b[39;00m\n\u001b[0;32m   1603\u001b[0m \u001b[39m\"\"\"\u001b[39;00m\n\u001b[0;32m   1604\u001b[0m kwargs \u001b[39m=\u001b[39m cbook\u001b[39m.\u001b[39mnormalize_kwargs(kwargs, mlines\u001b[39m.\u001b[39mLine2D)\n\u001b[1;32m-> 1605\u001b[0m lines \u001b[39m=\u001b[39m [\u001b[39m*\u001b[39m\u001b[39mself\u001b[39m\u001b[39m.\u001b[39m_get_lines(\u001b[39m*\u001b[39margs, data\u001b[39m=\u001b[39mdata, \u001b[39m*\u001b[39m\u001b[39m*\u001b[39mkwargs)]\n\u001b[0;32m   1606\u001b[0m \u001b[39mfor\u001b[39;00m line \u001b[39min\u001b[39;00m lines:\n\u001b[0;32m   1607\u001b[0m     \u001b[39mself\u001b[39m\u001b[39m.\u001b[39madd_line(line)\n",
      "File \u001b[1;32mc:\\Users\\Max Geiger\\AppData\\Local\\Programs\\Python\\Python310\\lib\\site-packages\\matplotlib\\axes\\_base.py:315\u001b[0m, in \u001b[0;36m_process_plot_var_args.__call__\u001b[1;34m(self, data, *args, **kwargs)\u001b[0m\n\u001b[0;32m    313\u001b[0m     this \u001b[39m+\u001b[39m\u001b[39m=\u001b[39m args[\u001b[39m0\u001b[39m],\n\u001b[0;32m    314\u001b[0m     args \u001b[39m=\u001b[39m args[\u001b[39m1\u001b[39m:]\n\u001b[1;32m--> 315\u001b[0m \u001b[39myield from\u001b[39;00m \u001b[39mself\u001b[39;49m\u001b[39m.\u001b[39;49m_plot_args(this, kwargs)\n",
      "File \u001b[1;32mc:\\Users\\Max Geiger\\AppData\\Local\\Programs\\Python\\Python310\\lib\\site-packages\\matplotlib\\axes\\_base.py:501\u001b[0m, in \u001b[0;36m_process_plot_var_args._plot_args\u001b[1;34m(self, tup, kwargs, return_kwargs)\u001b[0m\n\u001b[0;32m    498\u001b[0m     \u001b[39mself\u001b[39m\u001b[39m.\u001b[39maxes\u001b[39m.\u001b[39myaxis\u001b[39m.\u001b[39mupdate_units(y)\n\u001b[0;32m    500\u001b[0m \u001b[39mif\u001b[39;00m x\u001b[39m.\u001b[39mshape[\u001b[39m0\u001b[39m] \u001b[39m!=\u001b[39m y\u001b[39m.\u001b[39mshape[\u001b[39m0\u001b[39m]:\n\u001b[1;32m--> 501\u001b[0m     \u001b[39mraise\u001b[39;00m \u001b[39mValueError\u001b[39;00m(\u001b[39mf\u001b[39m\u001b[39m\"\u001b[39m\u001b[39mx and y must have same first dimension, but \u001b[39m\u001b[39m\"\u001b[39m\n\u001b[0;32m    502\u001b[0m                      \u001b[39mf\u001b[39m\u001b[39m\"\u001b[39m\u001b[39mhave shapes \u001b[39m\u001b[39m{\u001b[39;00mx\u001b[39m.\u001b[39mshape\u001b[39m}\u001b[39;00m\u001b[39m and \u001b[39m\u001b[39m{\u001b[39;00my\u001b[39m.\u001b[39mshape\u001b[39m}\u001b[39;00m\u001b[39m\"\u001b[39m)\n\u001b[0;32m    503\u001b[0m \u001b[39mif\u001b[39;00m x\u001b[39m.\u001b[39mndim \u001b[39m>\u001b[39m \u001b[39m2\u001b[39m \u001b[39mor\u001b[39;00m y\u001b[39m.\u001b[39mndim \u001b[39m>\u001b[39m \u001b[39m2\u001b[39m:\n\u001b[0;32m    504\u001b[0m     \u001b[39mraise\u001b[39;00m \u001b[39mValueError\u001b[39;00m(\u001b[39mf\u001b[39m\u001b[39m\"\u001b[39m\u001b[39mx and y can be no greater than 2D, but have \u001b[39m\u001b[39m\"\u001b[39m\n\u001b[0;32m    505\u001b[0m                      \u001b[39mf\u001b[39m\u001b[39m\"\u001b[39m\u001b[39mshapes \u001b[39m\u001b[39m{\u001b[39;00mx\u001b[39m.\u001b[39mshape\u001b[39m}\u001b[39;00m\u001b[39m and \u001b[39m\u001b[39m{\u001b[39;00my\u001b[39m.\u001b[39mshape\u001b[39m}\u001b[39;00m\u001b[39m\"\u001b[39m)\n",
      "\u001b[1;31mValueError\u001b[0m: x and y must have same first dimension, but have shapes (1,) and (2,)"
     ]
    },
    {
     "data": {
      "image/png": "[encoded data removed]",
      "text/plain": [
       "<Figure size 432x288 with 1 Axes>"
      ]
     },
     "metadata": {
      "needs_background": "light"
     },
     "output_type": "display_data"
    }
   ],
   "source": [
    "# Plotten\n",
    "plt.plot(x,Add(3),label=\"y\") #Hier werden die Werte zum Plotten übergeben \n",
    "plt.xlabel('x') # Achsenbeschriftung\n",
    "plt.ylabel('y') # Achsenbeschriftung\n",
    "plt.title('MyPlot') #Titel\n",
    "plt.legend() \n",
    "plt.grid() \n",
    "plt.show()\n",
    "plt.tight_layout(pad=0.5) #subplotabstände"
   ]
  },
  {
   "cell_type": "code",
   "execution_count": null,
   "metadata": {},
   "outputs": [],
   "source": [
    "# Klassen"
   ]
  },
  {
   "cell_type": "code",
   "execution_count": null,
   "metadata": {},
   "outputs": [],
   "source": [
    "# Datenfitting\n",
    "np.polyval(p,x)\n",
    "np.polyfit(x,y,degree)\n",
    "np.polyder([1,1,1])"
   ]
  },
  {
   "cell_type": "code",
   "execution_count": null,
   "metadata": {},
   "outputs": [],
   "source": [
    "# Gleichungssysteme\n",
    "np.linalg.solve(A,b) # Lösen des Gleichungssystems\n",
    "np.linalg.inv(A) # bilden der Inversen\n",
    "np.linalg.pinv(A) # pseudo-Inverse\n",
    "np.linalg.lstsq(A,b) # berechnung der Näherungslösung"
   ]
  },
  {
   "cell_type": "code",
   "execution_count": null,
   "metadata": {},
   "outputs": [],
   "source": [
    "# ode Solver"
   ]
  },
  {
   "cell_type": "code",
   "execution_count": null,
   "metadata": {},
   "outputs": [],
   "source": [
    "# fft"
   ]
  }
 ],
 "metadata": {
  "kernelspec": {
   "display_name": "Python 3",
   "language": "python",
   "name": "python3"
  },
  "language_info": {
   "codemirror_mode": {
    "name": "ipython",
    "version": 3
   },
   "file_extension": ".py",
   "mimetype": "text/x-python",
   "name": "python",
   "nbconvert_exporter": "python",
   "pygments_lexer": "ipython3",
   "version": "3.10.0"
  },
  "orig_nbformat": 4,
  "vscode": {
   "interpreter": {
    "hash": "98c13d5e91fc9a86e6a18b532ee236e7f7e3091a6fcf80864a95daf9b6a22ec6"
   }
  }
 },
 "nbformat": 4,
 "nbformat_minor": 2
}
