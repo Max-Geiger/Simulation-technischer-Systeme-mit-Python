{
 "cells": [
  {
   "cell_type": "code",
   "execution_count": 1,
   "metadata": {},
   "outputs": [
    {
     "ename": "ModuleNotFoundError",
     "evalue": "No module named 'cv2'",
     "output_type": "error",
     "traceback": [
      "\u001b[0;31m---------------------------------------------------------------------------\u001b[0m",
      "\u001b[0;31mModuleNotFoundError\u001b[0m                       Traceback (most recent call last)",
      "\u001b[0;32m/var/folders/2b/5lvf8bqx2pq9vmy39gcbrlnh0000gn/T/ipykernel_15412/419945166.py\u001b[0m in \u001b[0;36m<module>\u001b[0;34m\u001b[0m\n\u001b[1;32m      3\u001b[0m \u001b[0;32mimport\u001b[0m \u001b[0mmatplotlib\u001b[0m\u001b[0;34m.\u001b[0m\u001b[0mpyplot\u001b[0m \u001b[0;32mas\u001b[0m \u001b[0mplt\u001b[0m\u001b[0;34m\u001b[0m\u001b[0;34m\u001b[0m\u001b[0m\n\u001b[1;32m      4\u001b[0m \u001b[0;32mimport\u001b[0m \u001b[0mpandas\u001b[0m \u001b[0;32mas\u001b[0m \u001b[0mpd\u001b[0m\u001b[0;34m\u001b[0m\u001b[0;34m\u001b[0m\u001b[0m\n\u001b[0;32m----> 5\u001b[0;31m \u001b[0;32mimport\u001b[0m \u001b[0mcv2\u001b[0m\u001b[0;34m\u001b[0m\u001b[0;34m\u001b[0m\u001b[0m\n\u001b[0m\u001b[1;32m      6\u001b[0m \u001b[0;32mimport\u001b[0m \u001b[0mscipy\u001b[0m\u001b[0;34m.\u001b[0m\u001b[0moptimize\u001b[0m \u001b[0;32mas\u001b[0m \u001b[0mop\u001b[0m\u001b[0;34m\u001b[0m\u001b[0;34m\u001b[0m\u001b[0m\n\u001b[1;32m      7\u001b[0m \u001b[0;32mfrom\u001b[0m \u001b[0mscipy\u001b[0m\u001b[0;34m.\u001b[0m\u001b[0mintegrate\u001b[0m \u001b[0;32mimport\u001b[0m \u001b[0msolve_ivp\u001b[0m\u001b[0;34m\u001b[0m\u001b[0;34m\u001b[0m\u001b[0m\n",
      "\u001b[0;31mModuleNotFoundError\u001b[0m: No module named 'cv2'"
     ]
    }
   ],
   "source": [
    "#Imports:\n",
    "import numpy as np\n",
    "import matplotlib.pyplot as plt\n",
    "import pandas as pd\n",
    "import cv2\n",
    "import scipy.optimize as op\n",
    "from scipy.integrate import solve_ivp\n",
    "from scipy.integrate import odeint\n",
    "from math import *\n",
    "from openpyxl import load_workbook\n",
    "import pytest\n",
    "import webbrowser"
   ]
  },
  {
   "cell_type": "code",
   "execution_count": 2,
   "metadata": {},
   "outputs": [
    {
     "ename": "NameError",
     "evalue": "name 'x1' is not defined",
     "output_type": "error",
     "traceback": [
      "\u001b[1;31m---------------------------------------------------------------------------\u001b[0m",
      "\u001b[1;31mNameError\u001b[0m                                 Traceback (most recent call last)",
      "\u001b[1;32me:\\Programme (HDD)\\Python\\Repository_Simulation teschnishcer Systeme\\Simulation-technischer-Systeme-mit-Python\\Formelsammlung.ipynb Zelle 2\u001b[0m in \u001b[0;36m<module>\u001b[1;34m\u001b[0m\n\u001b[0;32m      <a href='vscode-notebook-cell:/e%3A/Programme%20%28HDD%29/Python/Repository_Simulation%20teschnishcer%20Systeme/Simulation-technischer-Systeme-mit-Python/Formelsammlung.ipynb#W1sZmlsZQ%3D%3D?line=0'>1</a>\u001b[0m \u001b[39m# Formatierte Ausgabe von f Strings:\u001b[39;00m\n\u001b[1;32m----> <a href='vscode-notebook-cell:/e%3A/Programme%20%28HDD%29/Python/Repository_Simulation%20teschnishcer%20Systeme/Simulation-technischer-Systeme-mit-Python/Formelsammlung.ipynb#W1sZmlsZQ%3D%3D?line=1'>2</a>\u001b[0m \u001b[39mprint\u001b[39m(\u001b[39mf\u001b[39m\u001b[39m'\u001b[39m\u001b[39mx=\u001b[39m\u001b[39m{\u001b[39;00mx1\u001b[39m}\u001b[39;00m\u001b[39m, y=\u001b[39m\u001b[39m{\u001b[39;00mx2\u001b[39m}\u001b[39;00m\u001b[39m'\u001b[39m)\n\u001b[0;32m      <a href='vscode-notebook-cell:/e%3A/Programme%20%28HDD%29/Python/Repository_Simulation%20teschnishcer%20Systeme/Simulation-technischer-Systeme-mit-Python/Formelsammlung.ipynb#W1sZmlsZQ%3D%3D?line=2'>3</a>\u001b[0m \u001b[39m#print(f'x={x1:.2}, y={x2:.2}')\u001b[39;00m\n\u001b[0;32m      <a href='vscode-notebook-cell:/e%3A/Programme%20%28HDD%29/Python/Repository_Simulation%20teschnishcer%20Systeme/Simulation-technischer-Systeme-mit-Python/Formelsammlung.ipynb#W1sZmlsZQ%3D%3D?line=3'>4</a>\u001b[0m d \u001b[39m=\u001b[39m \u001b[39mint\u001b[39m(\u001b[39minput\u001b[39m(\u001b[39m'\u001b[39m\u001b[39mEingabe\u001b[39m\u001b[39m'\u001b[39m))\n",
      "\u001b[1;31mNameError\u001b[0m: name 'x1' is not defined"
     ]
    }
   ],
   "source": [
    "# Formatierte Ausgabe von f Strings:\n",
    "print(f'x={x1}, y={x2}')\n",
    "#print(f'x={x1:.2}, y={x2:.2}')\n",
    "d = int(input('Eingabe'))\n",
    "\n",
    "# \\t : (horizontaler) Tab\n",
    "# \\n : Neue Zeile\n",
    "# \\\" : Doppelte Anführungszeichen\n",
    "\n",
    "# find() : text suchen: \n",
    "# count() : text Zählen"
   ]
  },
  {
   "cell_type": "code",
   "execution_count": 5,
   "metadata": {},
   "outputs": [
    {
     "name": "stdout",
     "output_type": "stream",
     "text": [
      "[[2 3]\n",
      " [5 6]]\n"
     ]
    }
   ],
   "source": [
    "#Generieren von Daten\n",
    "\n",
    "\n",
    "\n",
    "#Arrays = Vektor\n",
    "n=3\n",
    "a=np.zeros(n) \n",
    "a=np.ones(n) \n",
    "a=np.empty(n)\n",
    "vektor1 = np.array([0,1,2,3])\n",
    "a = np.random.randint(low=1, high=50, size = 30) # 30 Zufallszahlen, Integer, zwischen 1 und 50\n",
    "x1 = np.linspace(0,50,101) # 101 Werte gleichverteilt zwischen 0 und 50\n",
    "x2 = np.arange(1,50,1) # Werte von 1 bis 50 - 1 mit einem Abstand von 1\n",
    "\n",
    "\n",
    "# Matrix\n",
    "data1=np.zeros((2, 3))\n",
    "r= [1, 2, 3, 4]\n",
    "data=np.array(r)\n",
    "type(data)\n",
    "#data.ndim1\n",
    "#data.shape(4,)\n",
    "#data.size4\n",
    "matrix1 = np.array([[1,2,3,5],[4,5,6,8],[7,8,9,1]])\n",
    "teilmatrix = matrix1[0:2,1:3]\n",
    "#.reshape(3, 3)\n",
    "# E = np.concatenate((E1, E2), axis=1)\n",
    "d = np.diag(np.array([1,2,3,4])) # Diagonalmatrix mit Einträgen\n",
    "print(teilmatrix)\n",
    "\n",
    "\n"
   ]
  },
  {
   "cell_type": "code",
   "execution_count": 21,
   "metadata": {},
   "outputs": [],
   "source": [
    "# Listen\n",
    "Liste = [] # Erstellt leere Liste\n",
    "Liste1 = Liste.copy() # Kopieren einer liste\n",
    "Liste.append(2)\n",
    "Liste.extend([2,3,4]) # Einzeleinträge hinzu\n",
    "Liste.insert(2,'hallo') # Hinzufügen an beliebigen Ort\n",
    "Liste.remove(2) # entfernt ersten Eintrag “2”\n",
    "Liste[1] # Zugriff auf Eintrag 1\n",
    "Liste[4:] # Zugriff auf Eintrag 4 und folgend\n",
    "Liste[0:2] # Zeige die ersten beiden Einträge\n",
    "Liste1.count(2) # Zählen von Einträgen in Liste\n",
    "Liste1.sort() # Sortieren der Liste\n",
    "ListeSort = sorted(Liste1) # Alternativer Aufruf\n",
    "Liste1.reverse() # umdrehen einer Liste\n",
    "Liste.clear() # Entfernt alle Einträge"
   ]
  },
  {
   "cell_type": "code",
   "execution_count": 22,
   "metadata": {},
   "outputs": [],
   "source": [
    "# Tupel\n",
    "Tuple1 = (1,2,3)\n",
    "Tuple2 = tuple(Liste) # Tupel aus Liste erstellen"
   ]
  },
  {
   "cell_type": "code",
   "execution_count": 23,
   "metadata": {},
   "outputs": [
    {
     "data": {
      "text/plain": [
       "2010"
      ]
     },
     "execution_count": 23,
     "metadata": {},
     "output_type": "execute_result"
    }
   ],
   "source": [
    "#Dictionarys\n",
    "Auto1 = { 'Marke': 'BMW',\n",
    "'Modell': 'Q5',\n",
    "'Baujahr': 2010}\n",
    "Auto2 = dict(Marke='Audi', Modell='A3', Baujahr=1994)\n",
    "\n",
    "Auto3 = Auto1.copy()\n",
    "Auto3['Modell'] = 'Q7'\n",
    "Auto3.pop(\"Baujahr\") # Entferne Baujahr"
   ]
  },
  {
   "cell_type": "code",
   "execution_count": 25,
   "metadata": {},
   "outputs": [
    {
     "ename": "FileNotFoundError",
     "evalue": "[Errno 2] No such file or directory: 'C:\\\\........\\\\data_export.txt'",
     "output_type": "error",
     "traceback": [
      "\u001b[1;31m---------------------------------------------------------------------------\u001b[0m",
      "\u001b[1;31mFileNotFoundError\u001b[0m                         Traceback (most recent call last)",
      "\u001b[1;32me:\\Programme (HDD)\\Python\\Repository_Simulation teschnishcer Systeme\\Simulation-technischer-Systeme-mit-Python\\Formelsammlung.ipynb Cell 10\u001b[0m in \u001b[0;36m<module>\u001b[1;34m\u001b[0m\n\u001b[0;32m      <a href='vscode-notebook-cell:/e%3A/Programme%20%28HDD%29/Python/Repository_Simulation%20teschnishcer%20Systeme/Simulation-technischer-Systeme-mit-Python/Formelsammlung.ipynb#X12sZmlsZQ%3D%3D?line=0'>1</a>\u001b[0m \u001b[39m# Datei einlesen\u001b[39;00m\n\u001b[1;32m----> <a href='vscode-notebook-cell:/e%3A/Programme%20%28HDD%29/Python/Repository_Simulation%20teschnishcer%20Systeme/Simulation-technischer-Systeme-mit-Python/Formelsammlung.ipynb#X12sZmlsZQ%3D%3D?line=1'>2</a>\u001b[0m infile \u001b[39m=\u001b[39m \u001b[39mopen\u001b[39;49m(\u001b[39mr\u001b[39;49m\u001b[39m'\u001b[39;49m\u001b[39mC:\u001b[39;49m\u001b[39m\\\u001b[39;49m\u001b[39m........\u001b[39;49m\u001b[39m\\\u001b[39;49m\u001b[39mdata_export.txt\u001b[39;49m\u001b[39m'\u001b[39;49m,\u001b[39m'\u001b[39;49m\u001b[39mr\u001b[39;49m\u001b[39m'\u001b[39;49m)\n\u001b[0;32m      <a href='vscode-notebook-cell:/e%3A/Programme%20%28HDD%29/Python/Repository_Simulation%20teschnishcer%20Systeme/Simulation-technischer-Systeme-mit-Python/Formelsammlung.ipynb#X12sZmlsZQ%3D%3D?line=2'>3</a>\u001b[0m \u001b[39mfor\u001b[39;00m line \u001b[39min\u001b[39;00m infile:\n\u001b[0;32m      <a href='vscode-notebook-cell:/e%3A/Programme%20%28HDD%29/Python/Repository_Simulation%20teschnishcer%20Systeme/Simulation-technischer-Systeme-mit-Python/Formelsammlung.ipynb#X12sZmlsZQ%3D%3D?line=3'>4</a>\u001b[0m     \u001b[39mprint\u001b[39m(line)\n",
      "\u001b[1;31mFileNotFoundError\u001b[0m: [Errno 2] No such file or directory: 'C:\\\\........\\\\data_export.txt'"
     ]
    }
   ],
   "source": [
    "# Datei einlesen\n",
    "infile = open(r'C:\\........\\data_export.txt','r')\n",
    "for line in infile:\n",
    "    print(line)\n",
    "\n",
    "#r Datei ist ein Eingabefile, d.h. zum Lesen bestimmt\n",
    "#w Datei ist eine Ausgabedatei, d.h. zum Schreiben bestimmt\n",
    "#a Datei zumAnhängen neuer Daten an die bestehende Datei\n",
    "#rb Öffnen einer Dateiim Binärmodus zum Einlesen\n",
    "#wb Öffnen einer Datei im Binärmodus zum Schreiben\n",
    "\n",
    "# und Schreiben\n",
    "infile = open(r'C:\\..........\\data_export_out.txt','w')\n",
    "for i in range(20):\n",
    "    infile.write(str(i)+'daten\\t')\n",
    "infile.close()\n",
    "\n",
    "#nutzen von Pandas\n",
    "file_path = 'MeineDaten.xlsx'\n",
    "df = pd.read_excel(file_path)\n",
    "#print(df)\n",
    "df.to_dict()\n",
    "\n",
    "# Daten Filtern\n",
    "df_filterd = df[(df.Dehnung > 0)]"
   ]
  },
  {
   "cell_type": "code",
   "execution_count": 24,
   "metadata": {},
   "outputs": [],
   "source": [
    "#Number type Conversion\n",
    "z1 = int(2.0)\n",
    "z2 = float(5)\n",
    "z3 = complex(4)\n",
    "z4 = complex(4,2)\n",
    "z5 = hex(12445)"
   ]
  },
  {
   "cell_type": "code",
   "execution_count": 13,
   "metadata": {},
   "outputs": [
    {
     "name": "stdout",
     "output_type": "stream",
     "text": [
      "(13, 3)\n",
      "y = 13\n",
      "x = 3\n"
     ]
    }
   ],
   "source": [
    "# Funktionen\n",
    "a = 2 #Glöobale Variable\n",
    "def Add(x,a=1,b=2,c=3):\n",
    "    try:\n",
    "        #global a #Greift auf globale Variable zu\n",
    "        #a = 2\n",
    "        z = 4 # lokale Variable\n",
    "        k=x+a+b+c+z\n",
    "    except:\n",
    "        pass\n",
    "    return k, x\n",
    "\n",
    "print(Add(3))\n",
    "y,x = Add(3)\n",
    "print(f'y = {y}\\nx = {x}')"
   ]
  },
  {
   "cell_type": "code",
   "execution_count": 6,
   "metadata": {},
   "outputs": [
    {
     "name": "stdout",
     "output_type": "stream",
     "text": [
      "30\n"
     ]
    }
   ],
   "source": [
    "# Lambda Funktion:\n",
    "x = lambda a, b : a * b\n",
    "print(x(5, 6))"
   ]
  },
  {
   "cell_type": "code",
   "execution_count": 43,
   "metadata": {},
   "outputs": [
    {
     "name": "stdout",
     "output_type": "stream",
     "text": [
      "Die mittlere Temperatur beträgt  3.81 Grad C\n"
     ]
    },
    {
     "ename": "FileNotFoundError",
     "evalue": "[Errno 2] No such file or directory: 'data1.txt'",
     "output_type": "error",
     "traceback": [
      "\u001b[1;31m---------------------------------------------------------------------------\u001b[0m",
      "\u001b[1;31mFileNotFoundError\u001b[0m                         Traceback (most recent call last)",
      "\u001b[1;32me:\\Programme (HDD)\\Python\\Repository_Simulation teschnishcer Systeme\\Simulation-technischer-Systeme-mit-Python\\Formelsammlung.ipynb Cell 5\u001b[0m in \u001b[0;36m<module>\u001b[1;34m\u001b[0m\n\u001b[0;32m     <a href='vscode-notebook-cell:/e%3A/Programme%20%28HDD%29/Python/Repository_Simulation%20teschnishcer%20Systeme/Simulation-technischer-Systeme-mit-Python/Formelsammlung.ipynb#W3sZmlsZQ%3D%3D?line=15'>16</a>\u001b[0m \u001b[39mprint\u001b[39m(\u001b[39m'\u001b[39m\u001b[39mDie mittlere Temperatur beträgt \u001b[39m\u001b[39m%5.2f\u001b[39;00m\u001b[39m Grad C\u001b[39m\u001b[39m'\u001b[39m \u001b[39m%\u001b[39mmean)\n\u001b[0;32m     <a href='vscode-notebook-cell:/e%3A/Programme%20%28HDD%29/Python/Repository_Simulation%20teschnishcer%20Systeme/Simulation-technischer-Systeme-mit-Python/Formelsammlung.ipynb#W3sZmlsZQ%3D%3D?line=19'>20</a>\u001b[0m \u001b[39m# while-Schleifen:\u001b[39;00m\n\u001b[0;32m     <a href='vscode-notebook-cell:/e%3A/Programme%20%28HDD%29/Python/Repository_Simulation%20teschnishcer%20Systeme/Simulation-technischer-Systeme-mit-Python/Formelsammlung.ipynb#W3sZmlsZQ%3D%3D?line=20'>21</a>\u001b[0m \u001b[39m# while x1.all != 10: \u001b[39;00m\n\u001b[0;32m     <a href='vscode-notebook-cell:/e%3A/Programme%20%28HDD%29/Python/Repository_Simulation%20teschnishcer%20Systeme/Simulation-technischer-Systeme-mit-Python/Formelsammlung.ipynb#W3sZmlsZQ%3D%3D?line=21'>22</a>\u001b[0m \u001b[39m#     pass\u001b[39;00m\n\u001b[1;32m   (...)\u001b[0m\n\u001b[0;32m     <a href='vscode-notebook-cell:/e%3A/Programme%20%28HDD%29/Python/Repository_Simulation%20teschnishcer%20Systeme/Simulation-technischer-Systeme-mit-Python/Formelsammlung.ipynb#W3sZmlsZQ%3D%3D?line=25'>26</a>\u001b[0m \n\u001b[0;32m     <a href='vscode-notebook-cell:/e%3A/Programme%20%28HDD%29/Python/Repository_Simulation%20teschnishcer%20Systeme/Simulation-technischer-Systeme-mit-Python/Formelsammlung.ipynb#W3sZmlsZQ%3D%3D?line=26'>27</a>\u001b[0m \u001b[39m#bsp:\u001b[39;00m\n\u001b[1;32m---> <a href='vscode-notebook-cell:/e%3A/Programme%20%28HDD%29/Python/Repository_Simulation%20teschnishcer%20Systeme/Simulation-technischer-Systeme-mit-Python/Formelsammlung.ipynb#W3sZmlsZQ%3D%3D?line=27'>28</a>\u001b[0m infile\u001b[39m=\u001b[39m\u001b[39mopen\u001b[39;49m(\u001b[39m'\u001b[39;49m\u001b[39mdata1.txt\u001b[39;49m\u001b[39m'\u001b[39;49m,\u001b[39m'\u001b[39;49m\u001b[39mr\u001b[39;49m\u001b[39m'\u001b[39;49m)\n\u001b[0;32m     <a href='vscode-notebook-cell:/e%3A/Programme%20%28HDD%29/Python/Repository_Simulation%20teschnishcer%20Systeme/Simulation-technischer-Systeme-mit-Python/Formelsammlung.ipynb#W3sZmlsZQ%3D%3D?line=28'>29</a>\u001b[0m mean\u001b[39m=\u001b[39m\u001b[39m0\u001b[39m\n\u001b[0;32m     <a href='vscode-notebook-cell:/e%3A/Programme%20%28HDD%29/Python/Repository_Simulation%20teschnishcer%20Systeme/Simulation-technischer-Systeme-mit-Python/Formelsammlung.ipynb#W3sZmlsZQ%3D%3D?line=29'>30</a>\u001b[0m n\u001b[39m=\u001b[39m\u001b[39m0\u001b[39m\n",
      "\u001b[1;31mFileNotFoundError\u001b[0m: [Errno 2] No such file or directory: 'data1.txt'"
     ]
    }
   ],
   "source": [
    "# Schleifen:\n",
    "\n",
    "# for-Schleife:\n",
    "for i in x1:\n",
    "    pass\n",
    "else:\n",
    "    pass\n",
    "\n",
    "#bsp\n",
    "# Bestimmung der mittleren Temperatur\n",
    "temp=[21.8, 18.1, 20, 23, 26, 17.8]\n",
    "mean=0.0\n",
    "for i in range(0,len(temp)):\n",
    "    mean+=temp[i]\n",
    "    mean=mean/len(temp)\n",
    "print('Die mittlere Temperatur beträgt %5.2f Grad C' %mean)\n",
    "\n",
    "\n",
    "\n",
    "# while-Schleifen:\n",
    "# while x1.all != 10: \n",
    "#     pass\n",
    "# else:\n",
    "#     pass\n",
    "\n",
    "\n",
    "#bsp:\n",
    "infile=open('data1.txt','r')\n",
    "mean=0\n",
    "n=0\n",
    "while True:\n",
    "    line=infile.readline()\n",
    "    if not line:\n",
    "        break\n",
    "    mean+=float(line)\n",
    "    n+=1\n",
    "mean=mean/n\n",
    "print('Der Mittelwert beträgt %6.2f' % mean)\n",
    "infile.close()"
   ]
  },
  {
   "cell_type": "code",
   "execution_count": 3,
   "metadata": {},
   "outputs": [],
   "source": [
    "# if-Bedingung\n",
    "Variable = True\n",
    "Variable2 = False\n",
    "if Variable == True:\n",
    "    pass\n",
    "elif Variable2 == False:\n",
    "    pass\n",
    "else:\n",
    "    pass\n"
   ]
  },
  {
   "cell_type": "code",
   "execution_count": 9,
   "metadata": {},
   "outputs": [
    {
     "name": "stdout",
     "output_type": "stream",
     "text": [
      "[ 1  1 27 32  8 26 21 17 48  5 24 33 43 29 32 10 48 10 22  5 32 23 40 17\n",
      " 48 49 29 33 29 34]\n"
     ]
    }
   ],
   "source": [
    "# Rechnen\n",
    "\n",
    "\n",
    "matrix3 = np.transpose(matrix1) # Array transponieren\n",
    "matrix3 = matrix1.T # Transponieren\n",
    "np.dot(b.T,b) #Skalarprodukt\n",
    "np.cross(C.diagonal(),b) #Kreuzprodukt\n",
    "\n",
    "# Gleichungssysteme\n",
    "np.linalg.solve(A,b) # Lösen des Gleichungssystems\n",
    "np.linalg.inv(A) # bilden der Inversen\n",
    "np.linalg.pinv(A) # pseudo-Inverse\n",
    "np.linalg.lstsq(A,b) # berechnung der Näherungslösung\n",
    "np.linalg.det(A) # Determinante\n",
    "np.linalg.cond(A)# Konditionszahl muss klein sein\n",
    "I=np.dot(A, np.linalg.inv(A)) #Nichtsingularität\n",
    "solution=op.fsolve (F, xn , full_output =1) # fsolve als Gleichungslöser"
   ]
  },
  {
   "cell_type": "code",
   "execution_count": 39,
   "metadata": {},
   "outputs": [
    {
     "ename": "ValueError",
     "evalue": "x and y must have same first dimension, but have shapes (1,) and (2,)",
     "output_type": "error",
     "traceback": [
      "\u001b[1;31m---------------------------------------------------------------------------\u001b[0m",
      "\u001b[1;31mValueError\u001b[0m                                Traceback (most recent call last)",
      "\u001b[1;32me:\\Programme (HDD)\\Python\\Repository_Simulation teschnishcer Systeme\\Simulation-technischer-Systeme-mit-Python\\Formelsammlung.ipynb Cell 12\u001b[0m in \u001b[0;36m<module>\u001b[1;34m\u001b[0m\n\u001b[0;32m      <a href='vscode-notebook-cell:/e%3A/Programme%20%28HDD%29/Python/Repository_Simulation%20teschnishcer%20Systeme/Simulation-technischer-Systeme-mit-Python/Formelsammlung.ipynb#X14sZmlsZQ%3D%3D?line=0'>1</a>\u001b[0m \u001b[39m# Plotten\u001b[39;00m\n\u001b[1;32m----> <a href='vscode-notebook-cell:/e%3A/Programme%20%28HDD%29/Python/Repository_Simulation%20teschnishcer%20Systeme/Simulation-technischer-Systeme-mit-Python/Formelsammlung.ipynb#X14sZmlsZQ%3D%3D?line=1'>2</a>\u001b[0m plt\u001b[39m.\u001b[39;49mplot(x,Add(\u001b[39m3\u001b[39;49m),label\u001b[39m=\u001b[39;49m\u001b[39m\"\u001b[39;49m\u001b[39my\u001b[39;49m\u001b[39m\"\u001b[39;49m) \u001b[39m#Hier werden die Werte zum Plotten übergeben \u001b[39;00m\n\u001b[0;32m      <a href='vscode-notebook-cell:/e%3A/Programme%20%28HDD%29/Python/Repository_Simulation%20teschnishcer%20Systeme/Simulation-technischer-Systeme-mit-Python/Formelsammlung.ipynb#X14sZmlsZQ%3D%3D?line=2'>3</a>\u001b[0m plt\u001b[39m.\u001b[39mlegend() \n\u001b[0;32m      <a href='vscode-notebook-cell:/e%3A/Programme%20%28HDD%29/Python/Repository_Simulation%20teschnishcer%20Systeme/Simulation-technischer-Systeme-mit-Python/Formelsammlung.ipynb#X14sZmlsZQ%3D%3D?line=3'>4</a>\u001b[0m plt\u001b[39m.\u001b[39mgrid() \n",
      "File \u001b[1;32mc:\\Users\\Max Geiger\\AppData\\Local\\Programs\\Python\\Python310\\lib\\site-packages\\matplotlib\\pyplot.py:3019\u001b[0m, in \u001b[0;36mplot\u001b[1;34m(scalex, scaley, data, *args, **kwargs)\u001b[0m\n\u001b[0;32m   3017\u001b[0m \u001b[39m@_copy_docstring_and_deprecators\u001b[39m(Axes\u001b[39m.\u001b[39mplot)\n\u001b[0;32m   3018\u001b[0m \u001b[39mdef\u001b[39;00m \u001b[39mplot\u001b[39m(\u001b[39m*\u001b[39margs, scalex\u001b[39m=\u001b[39m\u001b[39mTrue\u001b[39;00m, scaley\u001b[39m=\u001b[39m\u001b[39mTrue\u001b[39;00m, data\u001b[39m=\u001b[39m\u001b[39mNone\u001b[39;00m, \u001b[39m*\u001b[39m\u001b[39m*\u001b[39mkwargs):\n\u001b[1;32m-> 3019\u001b[0m     \u001b[39mreturn\u001b[39;00m gca()\u001b[39m.\u001b[39mplot(\n\u001b[0;32m   3020\u001b[0m         \u001b[39m*\u001b[39margs, scalex\u001b[39m=\u001b[39mscalex, scaley\u001b[39m=\u001b[39mscaley,\n\u001b[0;32m   3021\u001b[0m         \u001b[39m*\u001b[39m\u001b[39m*\u001b[39m({\u001b[39m\"\u001b[39m\u001b[39mdata\u001b[39m\u001b[39m\"\u001b[39m: data} \u001b[39mif\u001b[39;00m data \u001b[39mis\u001b[39;00m \u001b[39mnot\u001b[39;00m \u001b[39mNone\u001b[39;00m \u001b[39melse\u001b[39;00m {}), \u001b[39m*\u001b[39m\u001b[39m*\u001b[39mkwargs)\n",
      "File \u001b[1;32mc:\\Users\\Max Geiger\\AppData\\Local\\Programs\\Python\\Python310\\lib\\site-packages\\matplotlib\\axes\\_axes.py:1605\u001b[0m, in \u001b[0;36mAxes.plot\u001b[1;34m(self, scalex, scaley, data, *args, **kwargs)\u001b[0m\n\u001b[0;32m   1363\u001b[0m \u001b[39m\"\"\"\u001b[39;00m\n\u001b[0;32m   1364\u001b[0m \u001b[39mPlot y versus x as lines and/or markers.\u001b[39;00m\n\u001b[0;32m   1365\u001b[0m \n\u001b[1;32m   (...)\u001b[0m\n\u001b[0;32m   1602\u001b[0m \u001b[39m(``'green'``) or hex strings (``'#008000'``).\u001b[39;00m\n\u001b[0;32m   1603\u001b[0m \u001b[39m\"\"\"\u001b[39;00m\n\u001b[0;32m   1604\u001b[0m kwargs \u001b[39m=\u001b[39m cbook\u001b[39m.\u001b[39mnormalize_kwargs(kwargs, mlines\u001b[39m.\u001b[39mLine2D)\n\u001b[1;32m-> 1605\u001b[0m lines \u001b[39m=\u001b[39m [\u001b[39m*\u001b[39m\u001b[39mself\u001b[39m\u001b[39m.\u001b[39m_get_lines(\u001b[39m*\u001b[39margs, data\u001b[39m=\u001b[39mdata, \u001b[39m*\u001b[39m\u001b[39m*\u001b[39mkwargs)]\n\u001b[0;32m   1606\u001b[0m \u001b[39mfor\u001b[39;00m line \u001b[39min\u001b[39;00m lines:\n\u001b[0;32m   1607\u001b[0m     \u001b[39mself\u001b[39m\u001b[39m.\u001b[39madd_line(line)\n",
      "File \u001b[1;32mc:\\Users\\Max Geiger\\AppData\\Local\\Programs\\Python\\Python310\\lib\\site-packages\\matplotlib\\axes\\_base.py:315\u001b[0m, in \u001b[0;36m_process_plot_var_args.__call__\u001b[1;34m(self, data, *args, **kwargs)\u001b[0m\n\u001b[0;32m    313\u001b[0m     this \u001b[39m+\u001b[39m\u001b[39m=\u001b[39m args[\u001b[39m0\u001b[39m],\n\u001b[0;32m    314\u001b[0m     args \u001b[39m=\u001b[39m args[\u001b[39m1\u001b[39m:]\n\u001b[1;32m--> 315\u001b[0m \u001b[39myield from\u001b[39;00m \u001b[39mself\u001b[39;49m\u001b[39m.\u001b[39;49m_plot_args(this, kwargs)\n",
      "File \u001b[1;32mc:\\Users\\Max Geiger\\AppData\\Local\\Programs\\Python\\Python310\\lib\\site-packages\\matplotlib\\axes\\_base.py:501\u001b[0m, in \u001b[0;36m_process_plot_var_args._plot_args\u001b[1;34m(self, tup, kwargs, return_kwargs)\u001b[0m\n\u001b[0;32m    498\u001b[0m     \u001b[39mself\u001b[39m\u001b[39m.\u001b[39maxes\u001b[39m.\u001b[39myaxis\u001b[39m.\u001b[39mupdate_units(y)\n\u001b[0;32m    500\u001b[0m \u001b[39mif\u001b[39;00m x\u001b[39m.\u001b[39mshape[\u001b[39m0\u001b[39m] \u001b[39m!=\u001b[39m y\u001b[39m.\u001b[39mshape[\u001b[39m0\u001b[39m]:\n\u001b[1;32m--> 501\u001b[0m     \u001b[39mraise\u001b[39;00m \u001b[39mValueError\u001b[39;00m(\u001b[39mf\u001b[39m\u001b[39m\"\u001b[39m\u001b[39mx and y must have same first dimension, but \u001b[39m\u001b[39m\"\u001b[39m\n\u001b[0;32m    502\u001b[0m                      \u001b[39mf\u001b[39m\u001b[39m\"\u001b[39m\u001b[39mhave shapes \u001b[39m\u001b[39m{\u001b[39;00mx\u001b[39m.\u001b[39mshape\u001b[39m}\u001b[39;00m\u001b[39m and \u001b[39m\u001b[39m{\u001b[39;00my\u001b[39m.\u001b[39mshape\u001b[39m}\u001b[39;00m\u001b[39m\"\u001b[39m)\n\u001b[0;32m    503\u001b[0m \u001b[39mif\u001b[39;00m x\u001b[39m.\u001b[39mndim \u001b[39m>\u001b[39m \u001b[39m2\u001b[39m \u001b[39mor\u001b[39;00m y\u001b[39m.\u001b[39mndim \u001b[39m>\u001b[39m \u001b[39m2\u001b[39m:\n\u001b[0;32m    504\u001b[0m     \u001b[39mraise\u001b[39;00m \u001b[39mValueError\u001b[39;00m(\u001b[39mf\u001b[39m\u001b[39m\"\u001b[39m\u001b[39mx and y can be no greater than 2D, but have \u001b[39m\u001b[39m\"\u001b[39m\n\u001b[0;32m    505\u001b[0m                      \u001b[39mf\u001b[39m\u001b[39m\"\u001b[39m\u001b[39mshapes \u001b[39m\u001b[39m{\u001b[39;00mx\u001b[39m.\u001b[39mshape\u001b[39m}\u001b[39;00m\u001b[39m and \u001b[39m\u001b[39m{\u001b[39;00my\u001b[39m.\u001b[39mshape\u001b[39m}\u001b[39;00m\u001b[39m\"\u001b[39m)\n",
      "\u001b[1;31mValueError\u001b[0m: x and y must have same first dimension, but have shapes (1,) and (2,)"
     ]
    },
    {
     "data": {
      "image/png": "[encoded data removed]",
      "text/plain": [
       "<Figure size 432x288 with 1 Axes>"
      ]
     },
     "metadata": {
      "needs_background": "light"
     },
     "output_type": "display_data"
    }
   ],
   "source": [
    "# Plotten\n",
    "plt.plot(x,Add(3),label=\"y\") #Hier werden die Werte zum Plotten übergeben \n",
    "plt.xlabel('x') # Achsenbeschriftung\n",
    "plt.ylabel('y') # Achsenbeschriftung\n",
    "plt.title('MyPlot') #Titel\n",
    "plt.legend() \n",
    "plt.grid() \n",
    "plt.show()\n",
    "plt.tight_layout(pad=0.5) #subplotabstände"
   ]
  },
  {
   "cell_type": "code",
   "execution_count": 56,
   "metadata": {},
   "outputs": [
    {
     "data": {
      "text/plain": [
       "Text(0.5, 1.0, 'loglog')"
      ]
     },
     "execution_count": 56,
     "metadata": {},
     "output_type": "execute_result"
    },
    {
     "data": {
      "image/png": "[encoded data removed]",
      "text/plain": [
       "<Figure size 432x288 with 4 Axes>"
      ]
     },
     "metadata": {
      "needs_background": "light"
     },
     "output_type": "display_data"
    }
   ],
   "source": [
    "#\n",
    "plt.figure()\n",
    "plt.subplot(2,2,1)\n",
    "plt.plot(x,np.exp(x),'_', linewidth=1.5,markersize=1.5,markevery=2)\n",
    "plt.title('plot')\n",
    "plt.subplot(2,2,2)\n",
    "plt.semilogx(x,np.exp(x))\n",
    "plt.title('semilogx')\n",
    "plt.subplot(2,2,3)\n",
    "plt.semilogy(x,np.exp(x))\n",
    "plt.title('semilogy')\n",
    "plt.subplot(2,2,4)\n",
    "plt.loglog(x,np.exp(x))\n",
    "plt.title('loglog')\n",
    "\n",
    "# gs=fig.add_gridspec(3, 2)\n"
   ]
  },
  {
   "cell_type": "code",
   "execution_count": 11,
   "metadata": {},
   "outputs": [
    {
     "data": {
      "text/plain": [
       "Text(0, 0.5, 'Wert, omega=2')"
      ]
     },
     "execution_count": 11,
     "metadata": {},
     "output_type": "execute_result"
    },
    {
     "data": {
      "image/png": "[encoded data removed]",
      "text/plain": [
       "<Figure size 1152x864 with 3 Axes>"
      ]
     },
     "metadata": {
      "needs_background": "light"
     },
     "output_type": "display_data"
    }
   ],
   "source": [
    "x = np.linspace(0, 10, 10000)\n",
    "#print(10/0.001)\n",
    "def funktion1(x,omega=1):\n",
    "    return 4*np.pi*np.sin(x*omega) + 43*np.pi*np.sin(3*x*omega)\n",
    "\n",
    "fig, (ax1,ax2,ax3) = plt.subplots(3,1, figsize=(16,12))\n",
    "ax1.plot(x, funktion1(x,1))\n",
    "\n",
    "ax1.grid()\n",
    "ax1.set_xlabel('Time')\n",
    "ax1.set_ylabel('Wert, omega=1')\n",
    "\n",
    "ax2.grid()\n",
    "ax2.set_xlabel('Time')\n",
    "ax2.set_ylabel('Wert, omega=0,5')\n",
    "\n",
    "ax3.grid()\n",
    "ax3.set_xlabel('Time')\n",
    "ax3.set_ylabel('Wert, omega=2')"
   ]
  },
  {
   "cell_type": "code",
   "execution_count": null,
   "metadata": {},
   "outputs": [],
   "source": [
    "# for i in reversed(range(1,5)): \n",
    "#     plt.figure(1) \n",
    "#     daten = np.random.normal(5,0.1*i,10000) \n",
    "#     n, bins, patches = plt.hist(daten,50) \n",
    "# plt.show()\n",
    "\n",
    "plt.matshow(A.transpose()) \n",
    "x = np.random.rand(20,20) "
   ]
  },
  {
   "cell_type": "code",
   "execution_count": null,
   "metadata": {},
   "outputs": [],
   "source": [
    "#3d Daten\n",
    "x = np.linspace(0,10) # x-Wertebereich\n",
    "y = np.linspace(0,10) # y-Wertebereich\n",
    "X, Y = np.meshgrid(x, y)\n",
    "Z=np.exp(-(X**2+Y**2))# FunktionaleZuweisungder z-Werte"
   ]
  },
  {
   "cell_type": "code",
   "execution_count": null,
   "metadata": {},
   "outputs": [],
   "source": [
    "# Datenfitting\n",
    "p=np.array([a,b,c]) # definieren der Koeffizienten ax^2+bx+c\n",
    "#x = np.linspace(-5,3,200) # definieren des x-Wertebereichs\n",
    "np.polyval(p,x) # bestimmen der y-Werte bzw. f(x)\n",
    "np.polyfit(x,y,degree)\n",
    "\n",
    "p =np.polyfit(x,y_noise,deg=2)\n",
    "plt.plot(x,np.polyval(p,x),label ='my fitting polynomial')\n",
    "\n",
    "np.polyder([1,1,1])\n",
    "Pol_roots =np.roots(polynom1) # bestimmen der Nullstellen\n",
    "y_0=np.zeros(Pol_roots.shape) \n",
    "plt.plot(Pol_roots,y_0,'*',label=\"Roots\")\n",
    "\n",
    "# Ableiten und Integriern\n",
    "poly_Abl =np.polyder(polynom1)# Ableitung\n",
    "plt.plot(x,np.polyval(poly_Abl,x),label=\"Ableitung\")\n",
    "poly_Int =np.polyint(polynom1)# Integration\n",
    "plt.plot(x,np.polyval(poly_Int,x),label=\"Integration\")\n",
    "\n",
    "#Gleichverteilte Datenpunkte\n",
    "x = sigma * np.random.randn(m,n) + mu #m,n beschreibt größe des Vektors\n",
    "\n",
    "x =np.linspace(0,5,200)\n",
    "y =np.polyval([2,0,0],x) # f(x) = 2*x^2\n",
    "mu=0 # Mittelwert\n",
    "sigma =1 # Standardabweichung\n",
    "epsilon =sigma *np.random.randn(y.shape[0])+mu # Rauschen\n",
    "y_noise =y +epsilon # verrauschtes Signal"
   ]
  },
  {
   "cell_type": "code",
   "execution_count": 57,
   "metadata": {},
   "outputs": [
    {
     "name": "stdout",
     "output_type": "stream",
     "text": [
      "parameter: [2.04117297 1.00197125]\n",
      "Covariance: [[ 1.32821978e-03 -2.93070322e-12]\n",
      " [-2.93070322e-12  4.42739927e-04]]\n",
      "1.0205864859288696\n",
      "1.0019712526990543\n"
     ]
    },
    {
     "data": {
      "image/png": "[encoded data removed]",
      "text/plain": [
       "<Figure size 432x288 with 1 Axes>"
      ]
     },
     "metadata": {
      "needs_background": "light"
     },
     "output_type": "display_data"
    }
   ],
   "source": [
    "#Bsp Curffitting\n",
    "\n",
    "import scipy.optimize as op\n",
    "#--------------------------------------------------\n",
    "# ----definition der Fitting-Funktion\n",
    "def fitFunc(x,a,b):\n",
    "    return np.exp((-1/2)*(x-a)**2/(2*b**2))\n",
    "x =np.linspace(-10,10,200)\n",
    "y =fitFunc(x,2,1)\n",
    "#--------------------------------------------------\n",
    "# ----erzeugen von Daten\n",
    "sigma =0.1\n",
    "e =sigma *np.random.randn(y.shape[0])\n",
    "S =y +e\n",
    "#--------------------------------------------------\n",
    "# ----data fitting\n",
    "popt,pcov =op.curve_fit(fitFunc,x,S)\n",
    "print(f'parameter: {popt}')\n",
    "print(f'Covariance: {pcov}')\n",
    "print(popt[0]/2)\n",
    "print(popt[1]/1)\n",
    "#--------------------------------------------------\n",
    "plt.plot(x,y,'--',label='reale Funktion')\n",
    "plt.plot(x,S,'+',label='Signal')\n",
    "plt.plot(x,fitFunc(x,popt[0],popt[1]),label='fitting Funktion')\n",
    "plt.xlabel('x')\n",
    "plt.ylabel('y')\n",
    "plt.legend()\n",
    "plt.grid()\n",
    "plt.show()"
   ]
  },
  {
   "cell_type": "code",
   "execution_count": 21,
   "metadata": {},
   "outputs": [
    {
     "name": "stdout",
     "output_type": "stream",
     "text": [
      "Die Konditionszahl beträgt: 9.03688336419296\n",
      "Die Inverse Matrix ist: \n",
      "[[-0.06557377  0.04918033]\n",
      " [ 0.37704918 -0.03278689]]\n",
      "Die Matrix ist Singulär und die Einheitsmatrix Matrix ist: \n",
      "[[1.00000000e+00 0.00000000e+00]\n",
      " [2.22044605e-16 1.00000000e+00]]\n",
      "Der Lösungsvektor ist: \n",
      "[-0.01639344  1.3442623 ]\n"
     ]
    },
    {
     "data": {
      "text/plain": [
       "[array([-0.01639344,  1.3442623 ]), None]"
      ]
     },
     "execution_count": 21,
     "metadata": {},
     "output_type": "execute_result"
    }
   ],
   "source": [
    "# Klassen\n",
    "\n",
    "# Magische Methoden\n",
    "# •__init__()\n",
    "# •__repr__()\n",
    "# •__str__()\n",
    "# •__add__()\n",
    "class Matrix_Löser:\n",
    "    def __init__(self,A,b,filename,filepath) -> None:\n",
    "        self.A = A\n",
    "        self.b = b\n",
    "        self._filename = filename\n",
    "        self._filepath = filepath\n",
    "\n",
    "    def Lösungsfunktion(self):\n",
    "        try:\n",
    "            self.A_inv = np.linalg.inv(self.A)\n",
    "            self.cond = np.linalg.cond(self.A)\n",
    "            self.I=np.dot(self.A, np.linalg. inv (self.A))\n",
    "            self.x = np.linalg.solve(self.A,self.b)\n",
    "            self.x_Näherung=None\n",
    "            print(f'Die Konditionszahl beträgt: {self.cond}')\n",
    "            print(f'Die Inverse Matrix ist: \\n{self.A_inv}')\n",
    "            print(f'Die Matrix ist Singulär und die Einheitsmatrix Matrix ist: \\n{self.I}')\n",
    "            print(f'Der Lösungsvektor ist: \\n{self.x}')\n",
    "        except:\n",
    "            self.A_pinv = np.linalg.pinv(self.A)\n",
    "            self.x_Näherung = np.linalg.lstsq(self.A,self.b,rcond=None)\n",
    "            self.cond = np.linalg.cond(self.A)\n",
    "            self.x=None\n",
    "            print(f'Die Konditionszahl beträgt: {self.cond}')\n",
    "            print(f'Das Lösungssystem hat keine eindeutige Lösung')\n",
    "            print(f'Die Näherungslösung beträgt: \\n{self.x_Näherung}')\n",
    "        return [self.x,self.x_Näherung]\n",
    "    \n",
    "    @property\n",
    "    def filename(self):\n",
    "        return self._filename\n",
    "\n",
    "    @filename.setter\n",
    "    def filename(self, value):\n",
    "        self._filename = value\n",
    "\n",
    "\n",
    "\n",
    "A = ([2,3],[23,4])\n",
    "b = [4,5]\n",
    "filename=1\n",
    "filepath=2\n",
    "system1 = Matrix_Löser(A,b,filename,filepath) # Erzeugen einer Instanz\n",
    "system1.Lösungsfunktion() # Aufruf der Funktion der Klasse"
   ]
  },
  {
   "cell_type": "code",
   "execution_count": 30,
   "metadata": {},
   "outputs": [
    {
     "data": {
      "text/plain": [
       "[<matplotlib.lines.Line2D at 0x1fddde3d9c0>]"
      ]
     },
     "execution_count": 30,
     "metadata": {},
     "output_type": "execute_result"
    },
    {
     "data": {
      "image/png": "[encoded data removed]",
      "text/plain": [
       "<Figure size 432x288 with 1 Axes>"
      ]
     },
     "metadata": {
      "needs_background": "light"
     },
     "output_type": "display_data"
    }
   ],
   "source": [
    "#ODE Solver, \"Händisch\"\n",
    "\n",
    "def Explizit_Euler(step):\n",
    "    t2 = np.arange(0,5,step) # GroberZeitvektormith=step\n",
    "    y2 = 1 + np.zeros(len(t2))\n",
    "    for i in range(1,len(t2)):\n",
    "        y2[i] = y2[i-1] + step*(-5*(y2[i-1]-2))\n",
    "    return y2,t2\n",
    "\n",
    "plt.figure()#figsize=(12,8))\n",
    "plt.plot(Explizit_Euler(0.1)[1],Explizit_Euler(0.1)[0],'o-',label='Euler explizit, step=0,5')"
   ]
  },
  {
   "cell_type": "code",
   "execution_count": 24,
   "metadata": {},
   "outputs": [
    {
     "data": {
      "text/plain": [
       "[<matplotlib.lines.Line2D at 0x1fdd9fdf250>]"
      ]
     },
     "execution_count": 24,
     "metadata": {},
     "output_type": "execute_result"
    },
    {
     "data": {
      "image/png": "[encoded data removed]",
      "text/plain": [
       "<Figure size 432x288 with 1 Axes>"
      ]
     },
     "metadata": {
      "needs_background": "light"
     },
     "output_type": "display_data"
    }
   ],
   "source": [
    "# ode Solver mit ivp\n",
    "def func1(t,y):\n",
    "    y1p = y[1]\n",
    "    y2p = 0.3*np.cos(t*1.3)-0.2*y[1]+1*y[0]-1*y[0]**3\n",
    "    return [y1p,y2p]\n",
    "sol1 = solve_ivp(func1,t_span=(0,120),y0=[0,0])\n",
    "plt.plot(sol1.t,sol1.y[0,:],'o-',label='solve_ivp')\n",
    "plt.legend()"
   ]
  },
  {
   "cell_type": "code",
   "execution_count": 26,
   "metadata": {},
   "outputs": [
    {
     "data": {
      "text/plain": [
       "[<matplotlib.lines.Line2D at 0x1fdda0bcf10>]"
      ]
     },
     "execution_count": 26,
     "metadata": {},
     "output_type": "execute_result"
    },
    {
     "data": {
      "image/png": "[encoded data removed]",
      "text/plain": [
       "<Figure size 432x288 with 1 Axes>"
      ]
     },
     "metadata": {
      "needs_background": "light"
     },
     "output_type": "display_data"
    }
   ],
   "source": [
    "\n",
    "# ODE Solver mit odint (Ordnung größer 1)\n",
    "def func1(y,t):\n",
    "    R = 1000\n",
    "    L = 0.1\n",
    "    U = -9\n",
    "    return -R/L*y-U/L\n",
    "\n",
    "t = np.linspace(0, 1, 50)\n",
    "sol1 = odeint(func1, 0, t)\n",
    "plt.plot(t,sol1[:, 0],label='approximiert')"
   ]
  },
  {
   "cell_type": "code",
   "execution_count": null,
   "metadata": {},
   "outputs": [],
   "source": [
    "# fft\n",
    "X_dft2 = np.fft.fft(y)"
   ]
  }
 ],
 "metadata": {
  "kernelspec": {
   "display_name": "base",
   "language": "python",
   "name": "python3"
  },
  "language_info": {
   "codemirror_mode": {
    "name": "ipython",
    "version": 3
   },
   "file_extension": ".py",
   "mimetype": "text/x-python",
   "name": "python",
   "nbconvert_exporter": "python",
   "pygments_lexer": "ipython3",
   "version": "3.9.13"
  },
  "orig_nbformat": 4,
  "vscode": {
   "interpreter": {
    "hash": "25fc70baad3005e3f4fcb99b28f31a4f2717801394a6f8a12d506d7c68753610"
   }
  }
 },
 "nbformat": 4,
 "nbformat_minor": 2
}
