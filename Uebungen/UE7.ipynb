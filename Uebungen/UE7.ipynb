{
 "cells": [
  {
   "cell_type": "code",
   "execution_count": 5,
   "metadata": {},
   "outputs": [],
   "source": [
    "#Import\n",
    "import numpy as np\n",
    "import matplotlib.pyplot as plt\n",
    "#import scipy.interpolate\n",
    "#from scipy.integrate import solve_ivp\n",
    "#from scipy.integrate import odeint\n",
    "from scipy.io import wavfile\n",
    "from scipy.fft import fft, fftfreq\n",
    "#import pandas as pd\n",
    "#from math import *\n",
    "#import locale\n",
    "#import webbrowser\n",
    "#from locale import atof"
   ]
  },
  {
   "cell_type": "code",
   "execution_count": 7,
   "metadata": {},
   "outputs": [
    {
     "ename": "NameError",
     "evalue": "name 'ukulele' is not defined",
     "output_type": "error",
     "traceback": [
      "\u001b[1;31m---------------------------------------------------------------------------\u001b[0m",
      "\u001b[1;31mNameError\u001b[0m                                 Traceback (most recent call last)",
      "\u001b[1;32me:\\Programme (HDD)\\Python\\Simulation technischer systeme mit Python\\UE\\UE7.ipynb Cell 2\u001b[0m in \u001b[0;36m<module>\u001b[1;34m\u001b[0m\n\u001b[0;32m      <a href='vscode-notebook-cell:/e%3A/Programme%20%28HDD%29/Python/Simulation%20technischer%20systeme%20mit%20Python/UE/UE7.ipynb#W1sZmlsZQ%3D%3D?line=0'>1</a>\u001b[0m \u001b[39m#Übungsaufgabe aus VL 11\u001b[39;00m\n\u001b[0;32m      <a href='vscode-notebook-cell:/e%3A/Programme%20%28HDD%29/Python/Simulation%20technischer%20systeme%20mit%20Python/UE/UE7.ipynb#W1sZmlsZQ%3D%3D?line=1'>2</a>\u001b[0m \u001b[39m#Berechnung einiger Eigenschaften\u001b[39;00m\n\u001b[1;32m----> <a href='vscode-notebook-cell:/e%3A/Programme%20%28HDD%29/Python/Simulation%20technischer%20systeme%20mit%20Python/UE/UE7.ipynb#W1sZmlsZQ%3D%3D?line=3'>4</a>\u001b[0m samplerate, data \u001b[39m=\u001b[39m wavfile\u001b[39m.\u001b[39mread(ukulele\u001b[39m.\u001b[39mm4a)\n\u001b[0;32m      <a href='vscode-notebook-cell:/e%3A/Programme%20%28HDD%29/Python/Simulation%20technischer%20systeme%20mit%20Python/UE/UE7.ipynb#W1sZmlsZQ%3D%3D?line=4'>5</a>\u001b[0m Nf\u001b[39m=\u001b[39m \u001b[39mlen\u001b[39m(X_dft2) \u001b[39m# Signallänge\u001b[39;00m\n\u001b[0;32m      <a href='vscode-notebook-cell:/e%3A/Programme%20%28HDD%29/Python/Simulation%20technischer%20systeme%20mit%20Python/UE/UE7.ipynb#W1sZmlsZQ%3D%3D?line=5'>6</a>\u001b[0m f_s\u001b[39m=\u001b[39m \u001b[39m1\u001b[39m \u001b[39m/\u001b[39m t[\u001b[39m1\u001b[39m]\u001b[39m-\u001b[39mt[\u001b[39m0\u001b[39m] \u001b[39m# Abtastfrequenz / Sampling frequency\u001b[39;00m\n",
      "\u001b[1;31mNameError\u001b[0m: name 'ukulele' is not defined"
     ]
    }
   ],
   "source": [
    "#Übungsaufgabe aus VL 11\n",
    "#Berechnung einiger Eigenschaften\n",
    "\n",
    "samplerate, data = wavfile.read(ukulele.m4a)\n",
    "Nf= len(X_dft2) # Signallänge\n",
    "f_s= 1 / t[1]-t[0] # Abtastfrequenz / Sampling frequency\n",
    "\n",
    "\n",
    "scipy.io.wavfile.read \n",
    "\n",
    "Y2_norm = Y2 / Nf\n",
    "Y2_norm_abs = np.abs(Y2_norm)\n",
    "Y2_norm_abs[1:len(Y2_norm_abs)] *= 2\n",
    "freqs = np.fft.fftfreq(Nf, d=1/f_s)\n",
    "plt.figure()\n",
    "plt.stem(freqs, Y2_norm_abs)\n",
    "plt.ylabel(\"Amplitude\")\n",
    "plt.xlabel(\"Frequenz / Hz\")\n",
    "plt.xlim([0,np.max(freqs)])"
   ]
  },
  {
   "cell_type": "code",
   "execution_count": null,
   "metadata": {},
   "outputs": [],
   "source": []
  }
 ],
 "metadata": {
  "kernelspec": {
   "display_name": "Python 3",
   "language": "python",
   "name": "python3"
  },
  "language_info": {
   "codemirror_mode": {
    "name": "ipython",
    "version": 3
   },
   "file_extension": ".py",
   "mimetype": "text/x-python",
   "name": "python",
   "nbconvert_exporter": "python",
   "pygments_lexer": "ipython3",
   "version": "3.10.0"
  },
  "orig_nbformat": 4,
  "vscode": {
   "interpreter": {
    "hash": "98c13d5e91fc9a86e6a18b532ee236e7f7e3091a6fcf80864a95daf9b6a22ec6"
   }
  }
 },
 "nbformat": 4,
 "nbformat_minor": 2
}
