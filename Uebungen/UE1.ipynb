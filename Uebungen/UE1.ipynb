{
 "cells": [
  {
   "cell_type": "code",
   "execution_count": 2,
   "metadata": {},
   "outputs": [],
   "source": [
    "#Import\n",
    "import numpy as np\n",
    "import matplotlib.pyplot as plt\n",
    "from math import *"
   ]
  },
  {
   "cell_type": "code",
   "execution_count": 3,
   "metadata": {},
   "outputs": [
    {
     "data": {
      "text/plain": [
       "array([ 0. ,  0.5,  1. ,  1.5,  2. ,  2.5,  3. ,  3.5,  4. ,  4.5,  5. ,\n",
       "        5.5,  6. ,  6.5,  7. ,  7.5,  8. ,  8.5,  9. ,  9.5, 10. , 10.5,\n",
       "       11. , 11.5, 12. , 12.5, 13. , 13.5, 14. , 14.5, 15. , 15.5, 16. ,\n",
       "       16.5, 17. , 17.5, 18. , 18.5, 19. , 19.5, 20. , 20.5, 21. , 21.5,\n",
       "       22. , 22.5, 23. , 23.5, 24. , 24.5, 25. , 25.5, 26. , 26.5, 27. ,\n",
       "       27.5, 28. , 28.5, 29. , 29.5, 30. , 30.5, 31. , 31.5, 32. , 32.5,\n",
       "       33. , 33.5, 34. , 34.5, 35. , 35.5, 36. , 36.5, 37. , 37.5, 38. ,\n",
       "       38.5, 39. , 39.5, 40. , 40.5, 41. , 41.5, 42. , 42.5, 43. , 43.5,\n",
       "       44. , 44.5, 45. , 45.5, 46. , 46.5, 47. , 47.5, 48. , 48.5, 49. ,\n",
       "       49.5, 50. ])"
      ]
     },
     "execution_count": 3,
     "metadata": {},
     "output_type": "execute_result"
    }
   ],
   "source": [
    "#1.8\n",
    "np.linspace(0,50,101)"
   ]
  },
  {
   "cell_type": "code",
   "execution_count": 4,
   "metadata": {},
   "outputs": [
    {
     "name": "stdout",
     "output_type": "stream",
     "text": [
      "[  1   3   5   7   9  11  13  15  17 100  21  23  25  27  29  31  33  35\n",
      "  37  39  41  43  45  47  49]\n",
      "100\n",
      "35 1.0\n"
     ]
    },
    {
     "data": {
      "image/png": "[encoded data removed]",
      "text/plain": [
       "<Figure size 432x288 with 1 Axes>"
      ]
     },
     "metadata": {
      "needs_background": "light"
     },
     "output_type": "display_data"
    }
   ],
   "source": [
    "#1.10\n",
    "x = np.arange(1,50,2) \n",
    "x[9]=100\n",
    "print(x)\n",
    "print(x[9])\n",
    "a=5\n",
    "b=7 \n",
    "c=a*b\n",
    "d=a*b/c\n",
    "print(c,d)\n",
    "plt.plot(x)\n",
    "plt.show()\n",
    "\n",
    "\n",
    "\n"
   ]
  },
  {
   "cell_type": "code",
   "execution_count": 5,
   "metadata": {},
   "outputs": [],
   "source": [
    "#1.11\n",
    "\n",
    "#x=np.sin(2* np.pi); x\n",
    "#y=np.sin(2* np.pi); y\n",
    "#z=np.sin(2 np.pi); z\n",
    "#a=5/0\n",
    "#b=0/0"
   ]
  },
  {
   "cell_type": "code",
   "execution_count": 6,
   "metadata": {},
   "outputs": [
    {
     "name": "stdout",
     "output_type": "stream",
     "text": [
      "8\n",
      "5.0\n",
      "(5+1j)\n",
      "5.0\n"
     ]
    }
   ],
   "source": [
    "#1.12\n",
    "a=abs(-5) \n",
    "b=int(3.5) \n",
    "c=float(2) \n",
    "d=complex(3,1)\n",
    "print(a+b)\n",
    "print(c+3)\n",
    "print(c + d)\n",
    "print(b+c)"
   ]
  },
  {
   "cell_type": "code",
   "execution_count": 7,
   "metadata": {},
   "outputs": [
    {
     "name": "stdout",
     "output_type": "stream",
     "text": [
      "----==== Programm Start ====----\n",
      "x= 9.0 y= 3.14159265359\n",
      "x=9.000000 y=3.141593\n",
      "x=9.0, y=3.14159265359\n",
      "x=9.0, y=3.14159265359\n",
      "x=9.00 y=3.14\n",
      "x= 9.00, y=3.141592654\n",
      "x=  9.0, y=3.141593\n",
      "----==== Programm Ende ====----\n"
     ]
    }
   ],
   "source": [
    "#2\n",
    "\n",
    "# Das ist ein Kommentar und wird vom Interpreter ignoriert \n",
    "print('----==== Programm Start ====----') \n",
    "#Berechnung \n",
    "x = (27*3)**0.5 \n",
    "y= 3.14159265359 \n",
    "# (1.0) Ausgabe der Ergebnisse \n",
    "print('x=', x, 'y=', y) \n",
    "# (1.1) %-formatting, Ausgabe der Ergebnisse \n",
    "print('x=%f y=%f'%(x,y)) \n",
    "# Ausgabe ohne Formatvorlage \n",
    "#str.format(), \n",
    "#Ausgabe der Ergebnisse \n",
    "print('x={}, y={}'.format(x,y)) \n",
    "# (1.3) f-Strings, Ausgabe der Ergebnisse \n",
    "print(f'x={x}, y={y}') \n",
    "# (2.0) %-formatting, Formatierte Ausgabe der Ergebnisse \n",
    "print('x=%4.2f y=%4.2f'%(x,y)) \n",
    "# Ausgabe mit Formatvorlage \n",
    "# # (2.1) str.format(), Formatierte Ausgabe der Ergebnisse \n",
    "print('x={:5.2f}, y={:.10}'.format(x,y)) # (2.1) f-Strings, Formatierte Ausgabe der Ergebnisse \n",
    "print(f'x={x:5.3}, y={y:.7}') #------------------------ \n",
    "# Löschen der verwendeten Variablen \n",
    "#del x,y \n",
    "print('----==== Programm Ende ====----')"
   ]
  },
  {
   "cell_type": "code",
   "execution_count": 8,
   "metadata": {},
   "outputs": [
    {
     "name": "stdout",
     "output_type": "stream",
     "text": [
      "----==== Programm Start ====----\n",
      "x=9.0, y=140\n",
      "----==== Programm Ende ====----\n"
     ]
    }
   ],
   "source": [
    "# 2.1\n",
    "print('----==== Programm Start ====----')  # Berechnung \n",
    "x=np.sqrt(27*3) \n",
    "y=20*7 #------------------------ # Formatierte Ausgabe der Ergebnisse \n",
    "print('x={}, y={}'.format(x,y)) #------------------------ # Löschen der verwendeten Variablen del x,y \n",
    "print('----==== Programm Ende ====----')"
   ]
  },
  {
   "cell_type": "code",
   "execution_count": 9,
   "metadata": {},
   "outputs": [
    {
     "name": "stdout",
     "output_type": "stream",
     "text": [
      "x=3.14159\n"
     ]
    }
   ],
   "source": [
    "#2.2\n",
    "pi=3.141592653589793238462643383279502884197169399375105\n",
    "x=np.pi\n",
    "print(f'x={x:7.6}')\n"
   ]
  },
  {
   "cell_type": "code",
   "execution_count": 10,
   "metadata": {},
   "outputs": [
    {
     "name": "stdout",
     "output_type": "stream",
     "text": [
      " | x1 | x2 | x3 | x4 | x5 | x6 | x7 | x8 | x9 | x10 | \n",
      "-----------------------------------------------------\n",
      "  | 1  | 2  | 3  | 4  | 5  | 6  | 7  | 8  | 9  | 10  | \n"
     ]
    }
   ],
   "source": [
    "#2.3\n",
    "a=[0,1,2,3,4,5,6,7,8,9,10]\n",
    "b=['x0','x1','x2','x3','x4','x5','x6','x7','x8','x9','x10']\n",
    "\n",
    "print('',*b[1:11],'', sep=' | ')\n",
    "print('-----------------------------------------------------')\n",
    "print('',*a[1:11],'', sep='  | ')"
   ]
  },
  {
   "cell_type": "code",
   "execution_count": 11,
   "metadata": {},
   "outputs": [
    {
     "name": "stdout",
     "output_type": "stream",
     "text": [
      "\"Python\" ist eine tolle Programmiersprache\n",
      "\"c++\" ist eine tolle Programmiersprache\n",
      "\"c++\" ist auch eine tolle Programmiersprache\n"
     ]
    }
   ],
   "source": [
    "#2.4\n",
    "txt='\"Python\" ist eine tolle Programmiersprache'\n",
    "x = txt.replace(\"\\\"Python\\\"\", \"\\\"c++\\\"\")\n",
    "y = x[:10] + 'auch ' + x[10:]\n",
    "print(txt)\n",
    "print(x)\n",
    "print(y)\n",
    "#replace(\"Python\")"
   ]
  },
  {
   "cell_type": "code",
   "execution_count": 12,
   "metadata": {},
   "outputs": [
    {
     "name": "stdout",
     "output_type": "stream",
     "text": [
      "01.0 | 03.0| 05.0| 07.0| 09.0\n"
     ]
    }
   ],
   "source": [
    "#2.6\n",
    "x=[0, 1, 2, 3, 4, 5, 6, 7, 8, 9, 10]\n",
    "\n",
    "print(f'{float(x[1]):04.1f} | {float(x[3]):04.1f}| {float(x[5]):04.1f}| {float(x[7]):04.1f}| {float(x[9]):04.1f}')\n"
   ]
  },
  {
   "cell_type": "code",
   "execution_count": 13,
   "metadata": {},
   "outputs": [
    {
     "name": "stdout",
     "output_type": "stream",
     "text": [
      "1.2246467991473532e-16j\n"
     ]
    }
   ],
   "source": [
    "#2.7\n",
    "print(np.e**(np.pi*1j)+1)\n"
   ]
  },
  {
   "cell_type": "code",
   "execution_count": 14,
   "metadata": {},
   "outputs": [
    {
     "name": "stdout",
     "output_type": "stream",
     "text": [
      "Bitte geben Sie den Durchmesser im m an.\n",
      "Der Durchmesser beträgt: 7.0685834705770345\n",
      "Der Umfang beträgt: 9.42477796076938\n"
     ]
    }
   ],
   "source": [
    "#2.8\n",
    "print('Bitte geben Sie den Durchmesser im m an.')\n",
    "d = input()\n",
    "d = int(d)\n",
    "print('Der Durchmesser beträgt:', np.pi/4*d**2)\n",
    "print('Der Umfang beträgt:', np.pi*d)\n"
   ]
  },
  {
   "cell_type": "code",
   "execution_count": 29,
   "metadata": {},
   "outputs": [
    {
     "name": "stdout",
     "output_type": "stream",
     "text": [
      "Wort gefunden\n",
      "Erste Fundstelle: 86\n",
      "und zwar so oft:  1\n"
     ]
    }
   ],
   "source": [
    "#3.1\n",
    "MyText='Python ist eine universelle, üblicherweise interpretierte höhere Program-miersprache. Sie hat den Anspruch, einen gut lesbaren, knappen Programmierstil zu för-dern. So werden beispielsweise Blöcke nicht durch geschweifte Klammern, sondern durch Einrückungen strukturiert. Wegen seiner klaren und übersichtlichen Syntax gilt Python als einfach zu erlernen. Python unterstützt mehrere Programmierparadigmen, z.B. die objektorientierte, die aspektorientierte und die funktionale Programmierung. Ferner bietet es eine dynamische Typisierung. Wie viele dynamische Sprachen wird Py-thon oft als Skriptsprache genutzt. Die Sprache weist ein offenes, gemeinschaftsbasier-tes Entwicklungsmodell auf, das durch die gemeinnützige Python Software Foundation gestützt wird, die de facto die Definition der Sprache in der Referenzumsetzung CPython pflegt.'\n",
    "\n",
    "word = input()\n",
    "\n",
    "if MyText.find(word) >=0:\n",
    "    print('Wort gefunden')\n",
    "    print('Erste Fundstelle:', MyText.find(word))\n",
    "    print('und zwar so oft: ', MyText.count(word))\n",
    "else:\n",
    "    print('Pech gehabt')\n",
    "\n",
    "#find()\n",
    "#count()\n"
   ]
  },
  {
   "cell_type": "code",
   "execution_count": 32,
   "metadata": {},
   "outputs": [
    {
     "name": "stdout",
     "output_type": "stream",
     "text": [
      "Sprache nicht gefunden.\n"
     ]
    }
   ],
   "source": [
    "#3.2\n",
    "sprache = input('Bitte geben sie eine Sprache an')\n",
    "\n",
    "if sprache == 'deutsch':\n",
    "    print('Hallo')\n",
    "elif sprache == 'englisch':\n",
    "    print('Hello')\n",
    "elif sprache == 'spanisch':\n",
    "    print('¡Hola!')\n",
    "elif sprache == 'chinesisch':\n",
    "    print('Ni hao')\n",
    "elif sprache == 'japanisch':\n",
    "    print('Kon\\'nichiwa')\n",
    "elif sprache == 'arabisch':\n",
    "    print('Marhabaan')\n",
    "elif sprache == 'hindi':\n",
    "    print('Abhinandan')\n",
    "else:\n",
    "    print('Sprache nicht gefunden.')\n",
    "\n"
   ]
  },
  {
   "cell_type": "code",
   "execution_count": 39,
   "metadata": {},
   "outputs": [
    {
     "name": "stdout",
     "output_type": "stream",
     "text": [
      "richtig geraten!\n"
     ]
    }
   ],
   "source": [
    "#3.3\n",
    "zahl = input('Raten sie eine Zahl')\n",
    "zahl = int(zahl)\n",
    "Lsg = 6\n",
    "if zahl == Lsg:\n",
    "    print('richtig geraten!')\n",
    "elif zahl >= Lsg:\n",
    "    print('Zahl zu groß!')\n",
    "elif zahl <= Lsg:\n",
    "    print('Zahl zu klein!')"
   ]
  },
  {
   "cell_type": "code",
   "execution_count": 45,
   "metadata": {},
   "outputs": [
    {
     "name": "stdout",
     "output_type": "stream",
     "text": [
      "0\n",
      "1\n",
      "2\n",
      "3\n",
      "4\n",
      "5\n",
      "6\n",
      "7\n",
      "8\n",
      "9\n",
      "10\n"
     ]
    }
   ],
   "source": [
    "#4.1\n",
    "a=[0,1,2,3,4,5,6,7,8,9,10]\n",
    "for x in a:\n",
    "    print(x)"
   ]
  },
  {
   "cell_type": "code",
   "execution_count": 50,
   "metadata": {},
   "outputs": [
    {
     "name": "stdout",
     "output_type": "stream",
     "text": [
      "[0]\n",
      "[0, 1]\n",
      "[0, 1, 2]\n",
      "[0, 1, 2, 3]\n",
      "[0, 1, 2, 3, 4]\n",
      "[0, 1, 2, 3, 4, 5]\n",
      "[0, 1, 2, 3, 4, 5, 6]\n",
      "[0, 1, 2, 3, 4, 5, 6, 7]\n",
      "[0, 1, 2, 3, 4, 5, 6, 7, 8]\n",
      "[0, 1, 2, 3, 4, 5, 6, 7, 8, 9]\n",
      "[0, 1, 2, 3, 4, 5, 6, 7, 8, 9, 10]\n"
     ]
    }
   ],
   "source": [
    "#4.2\n",
    "a=[0,1,2,3,4,5,6,7,8,9,10]\n",
    "liste=[]\n",
    "for x in a:\n",
    "    #print(x)\n",
    "    liste.append(x)\n",
    "    print(liste)\n",
    "#append()"
   ]
  },
  {
   "cell_type": "code",
   "execution_count": 57,
   "metadata": {},
   "outputs": [
    {
     "name": "stdout",
     "output_type": "stream",
     "text": [
      "[1, 2, 3, 4, 5, 6, 7, 8, 9, 10]\n"
     ]
    }
   ],
   "source": [
    "#4.3\n",
    "x=[2, 4, 1, 7, 6, 10, 9, 5, 3, 8]\n",
    "for n in range(len(x)):\n",
    "    for i in range(len(x)-1):\n",
    "        if x[i] > x[i+1]:\n",
    "            x[i], x[i+1]  = x[i+1], x[i]         \n",
    "\n",
    "\n",
    "print(x)"
   ]
  },
  {
   "cell_type": "code",
   "execution_count": 81,
   "metadata": {},
   "outputs": [
    {
     "name": "stdout",
     "output_type": "stream",
     "text": [
      "Das Stichwort: \"ist\" wurde 2-mal gefun-den\n",
      "erste Fundstelle: 7\n",
      "weitere Fundstelle: 626\n"
     ]
    }
   ],
   "source": [
    "#4.4\n",
    "MySearch=input(\"Stichwort für die Suche: \\n\") \n",
    "Location=MyText.find(MySearch) \n",
    "Counts=MyText.count(MySearch)\n",
    "if Location>=0: \n",
    "    print(f\"Das Stichwort: \\\"{MySearch}\\\" wurde {Counts}-mal gefun-den\\nerste Fundstelle: {Location}\") \n",
    "    if Counts>1: \n",
    "        for i in range(Counts-1): # loop über alle Funde \n",
    "            tmp=Location+len(MySearch) # suche NACH dem letzten Fund \n",
    "            Location=MyText[tmp:].find(MySearch) \n",
    "            Location=Location+tmp # Fundstelle in MyText\n",
    "            print(f\"weitere Fundstelle: {Location}\") \n",
    "    else: print(f'Das Stichwort: \\\"{MySearch}\\\" wurde nicht gefunden')"
   ]
  },
  {
   "cell_type": "code",
   "execution_count": 89,
   "metadata": {},
   "outputs": [
    {
     "name": "stdout",
     "output_type": "stream",
     "text": [
      "Achtung!\n",
      "Geheim!\n",
      "Python\n",
      "ist\n",
      "eine\n",
      "tolle\n",
      "Programmiersprache\n"
     ]
    }
   ],
   "source": [
    "#4.5\n",
    "cryptList = ['die', 'ist', 'Auf', 'ist', 'und', 'wichtigen', 'einem', 'Quelltext', \n",
    "'für', 'objektori-entierten', 'abstrakten', 'und', 'zusätzliche', 'Anwendungsentwicklung', \n",
    "'und', 'sowie', 'Skripte', 'Programmierung.', 'in', 'Programmiersprache', 'der', 'sowohl', \n",
    "'mächtige', 'auf', 'für', 'binärer', 'umfangreiche', 'aber', 'Form', 'aber', 'Achtung!', \n",
    "'einfach', 'eine', 'Syntax', 'als', 'tolle', 'gleichen', 'und', 'die', 'Sei te', 'für', 'mit', \n",
    "'http://www.python.org', 'freie', 'elegante', 'Der', 'geeignet.', 'sind', 'Development)', 'auch', \n",
    "'effizienten', 'von', 'Ap-plication', 'Verweise', 'alle', 'Sprache', 'Standardbibliothek', 'Werkzeuge,', \n",
    "'Distributio-nen', 'finden', 'schnelle', 'und', 'als', 'weiterverbreitet', 'hervorragend', 'Typisierung', \n",
    "'(Rapid', 'Drittanbietern,', 'Geheim!', 'auf', 'Ansatz', 'und', 'frei', 'Programme', 'verfüg-bar,', 'werden.',\n",
    "'Python', 'Module,', 'Python', 'einfachen,', 'als', 'dynamische', 'frei', 'die', 'Dokumentation.', 'lernende,', \n",
    "'Webseite', 'Python-Interpreter', 'zu', 'interpretierte', 'können', 'zur', 'der', 'sich', 'Plattformen', 'weitere',\n",
    " 'effektiven', 'Durch', 'Datenstruk-turen']\n",
    "\n",
    "key=[30, 68, 78, 3, 32, 35, 19]\n",
    "\n",
    "for i in key:\n",
    "    print(cryptList[i])"
   ]
  },
  {
   "cell_type": "code",
   "execution_count": 93,
   "metadata": {},
   "outputs": [
    {
     "name": "stdout",
     "output_type": "stream",
     "text": [
      "0\n",
      "1\n",
      "1\n",
      "2\n",
      "3\n",
      "5\n",
      "8\n",
      "13\n",
      "21\n",
      "34\n",
      "55\n",
      "89\n",
      "144\n",
      "233\n",
      "377\n",
      "610\n",
      "987\n",
      "1597\n",
      "2584\n",
      "4181\n",
      "6765\n",
      "10946\n",
      "17711\n",
      "28657\n",
      "46368\n",
      "75025\n",
      "121393\n",
      "196418\n",
      "317811\n",
      "514229\n",
      "832040\n",
      "1346269\n",
      "2178309\n",
      "3524578\n",
      "5702887\n",
      "9227465\n",
      "14930352\n",
      "24157817\n",
      "39088169\n",
      "63245986\n",
      "102334155\n",
      "165580141\n",
      "267914296\n",
      "433494437\n",
      "701408733\n",
      "1134903170\n",
      "1836311903\n",
      "2971215073\n",
      "4807526976\n",
      "7778742049\n",
      "12586269025\n",
      "20365011074\n",
      "32951280099\n",
      "53316291173\n",
      "86267571272\n",
      "139583862445\n",
      "225851433717\n",
      "365435296162\n",
      "591286729879\n",
      "956722026041\n",
      "1548008755920\n",
      "2504730781961\n",
      "4052739537881\n",
      "6557470319842\n",
      "10610209857723\n",
      "17167680177565\n",
      "27777890035288\n",
      "44945570212853\n",
      "72723460248141\n",
      "117669030460994\n",
      "190392490709135\n",
      "308061521170129\n",
      "498454011879264\n",
      "806515533049393\n",
      "1304969544928657\n",
      "2111485077978050\n",
      "3416454622906707\n",
      "5527939700884757\n",
      "8944394323791464\n",
      "14472334024676221\n",
      "23416728348467685\n",
      "37889062373143906\n",
      "61305790721611591\n",
      "99194853094755497\n",
      "160500643816367088\n",
      "259695496911122585\n",
      "420196140727489673\n",
      "679891637638612258\n",
      "1100087778366101931\n",
      "1779979416004714189\n",
      "2880067194370816120\n",
      "4660046610375530309\n",
      "7540113804746346429\n",
      "12200160415121876738\n",
      "19740274219868223167\n",
      "31940434634990099905\n",
      "51680708854858323072\n",
      "83621143489848422977\n",
      "135301852344706746049\n",
      "218922995834555169026\n"
     ]
    }
   ],
   "source": [
    "#4.6\n",
    "\n",
    "n=100\n",
    "a=1\n",
    "b=1\n",
    "print('0')\n",
    "print(a)\n",
    "print(b)\n",
    "for i in range(n-3):\n",
    "    total = a + b\n",
    "    b = a\n",
    "    a = total\n",
    "    print(total)\n"
   ]
  },
  {
   "cell_type": "code",
   "execution_count": 94,
   "metadata": {},
   "outputs": [
    {
     "name": "stdout",
     "output_type": "stream",
     "text": [
      "Anweisung 1\n",
      "Anweisung 1\n",
      "Anweisung 1\n",
      "Anweisung 2\n"
     ]
    }
   ],
   "source": [
    "#5.1\n",
    "counter = 0 \n",
    "while counter < 3: \n",
    "    print(\"Anweisung 1\") \n",
    "    counter = counter + 1 \n",
    "else: \n",
    "    print(\"Anweisung 2\")"
   ]
  },
  {
   "cell_type": "code",
   "execution_count": 100,
   "metadata": {},
   "outputs": [
    {
     "name": "stdout",
     "output_type": "stream",
     "text": [
      "Ich stecke fest\n",
      "Ich stecke fest\n",
      "Ich stecke fest\n",
      "Ich stecke fest\n",
      "Ich stecke fest\n",
      "Ich stecke fest\n",
      "Ich stecke fest\n",
      "Ich stecke fest\n",
      "Ich stecke fest\n",
      "Ich stecke fest\n",
      "Anweisung 2\n"
     ]
    }
   ],
   "source": [
    "#5.2\n",
    "counter=0\n",
    "while counter < 10: \n",
    "    print(\"Ich stecke fest\")\n",
    "    counter = counter + 1 \n",
    "else: \n",
    "    print(\"Anweisung 2\")\n",
    "    "
   ]
  },
  {
   "cell_type": "code",
   "execution_count": 114,
   "metadata": {},
   "outputs": [
    {
     "name": "stdout",
     "output_type": "stream",
     "text": [
      "Zahl zu klein!\n",
      "Zahl zu groß!\n",
      "Zahl zu groß!\n",
      "Zahl zu groß!\n",
      "Zahl zu klein!\n",
      "Zahl zu groß!\n",
      "Zahl zu groß!\n",
      "Zahl zu groß!\n",
      "richtig geraten!\n",
      "Ungültige Eingabe\n",
      "Zahl zu klein!\n",
      "Zahl zu klein!\n",
      "Zahl zu groß!\n",
      "Zahl zu klein!\n",
      "Zahl zu groß!\n",
      "Zahl zu groß!\n",
      "richtig geraten!\n",
      "Ungültige Eingabe\n",
      "Zahl zu klein!\n",
      "Zahl zu groß!\n",
      "Zahl zu klein!\n",
      "Zahl zu groß!\n",
      "richtig geraten!\n",
      "Ungültige Eingabe\n"
     ]
    },
    {
     "ename": "ValueError",
     "evalue": "invalid literal for int() with base 10: ''",
     "output_type": "error",
     "traceback": [
      "\u001b[1;31m---------------------------------------------------------------------------\u001b[0m",
      "\u001b[1;31mValueError\u001b[0m                                Traceback (most recent call last)",
      "\u001b[1;32me:\\Programme (HDD)\\Python\\Simulation technischer systeme mit Python\\UE\\UE1.ipynb Zelle 25\u001b[0m in \u001b[0;36m<module>\u001b[1;34m\u001b[0m\n\u001b[0;32m     <a href='vscode-notebook-cell:/e%3A/Programme%20%28HDD%29/Python/Simulation%20technischer%20systeme%20mit%20Python/UE/UE1.ipynb#X34sZmlsZQ%3D%3D?line=9'>10</a>\u001b[0m \u001b[39mwhile\u001b[39;00m state\u001b[39m==\u001b[39m\u001b[39mTrue\u001b[39;00m:\n\u001b[0;32m     <a href='vscode-notebook-cell:/e%3A/Programme%20%28HDD%29/Python/Simulation%20technischer%20systeme%20mit%20Python/UE/UE1.ipynb#X34sZmlsZQ%3D%3D?line=10'>11</a>\u001b[0m     zahl \u001b[39m=\u001b[39m \u001b[39minput\u001b[39m(\u001b[39m'\u001b[39m\u001b[39mRaten sie eine Zahl\u001b[39m\u001b[39m'\u001b[39m)\n\u001b[1;32m---> <a href='vscode-notebook-cell:/e%3A/Programme%20%28HDD%29/Python/Simulation%20technischer%20systeme%20mit%20Python/UE/UE1.ipynb#X34sZmlsZQ%3D%3D?line=11'>12</a>\u001b[0m     zahl \u001b[39m=\u001b[39m \u001b[39mint\u001b[39;49m(zahl)\n\u001b[0;32m     <a href='vscode-notebook-cell:/e%3A/Programme%20%28HDD%29/Python/Simulation%20technischer%20systeme%20mit%20Python/UE/UE1.ipynb#X34sZmlsZQ%3D%3D?line=12'>13</a>\u001b[0m     \u001b[39mwhile\u001b[39;00m zahl\u001b[39m!=\u001b[39mLsg:\n\u001b[0;32m     <a href='vscode-notebook-cell:/e%3A/Programme%20%28HDD%29/Python/Simulation%20technischer%20systeme%20mit%20Python/UE/UE1.ipynb#X34sZmlsZQ%3D%3D?line=13'>14</a>\u001b[0m         \u001b[39mif\u001b[39;00m zahl \u001b[39m>\u001b[39m Lsg:\n",
      "\u001b[1;31mValueError\u001b[0m: invalid literal for int() with base 10: ''"
     ]
    }
   ],
   "source": [
    "#5.3 (funktioniert nicht)\n",
    "Zahl_min=0 # unteres Limit der Zufallszahlen \n",
    "Zahl_max=100 # oberes Limit der Zufallszahlen \n",
    "# erzeugen der Zufallszahl \n",
    "Zufallszahl=np.random.uniform(Zahl_min,Zahl_max) # die Zufallszahl wir mit np.ceil abgerundet\n",
    "# und mit int() in einen Interger Wert umgewandelt \n",
    "Lsg=int(np.ceil(Zufallszahl))\n",
    "\n",
    "state=True\n",
    "while state==True:\n",
    "    zahl = input('Raten sie eine Zahl')\n",
    "    zahl = int(zahl)\n",
    "    while zahl!=Lsg:\n",
    "        if zahl > Lsg:\n",
    "            print('Zahl zu groß!')\n",
    "        elif zahl < Lsg:\n",
    "            print('Zahl zu klein!')\n",
    "        zahl = input('Raten sie eine Zahl')\n",
    "        zahl = int(zahl)\n",
    "    else:\n",
    "        print('richtig geraten!')\n",
    "        input('wollen sie eine neue Runde starten? Geben Sie 1 für \\\"Ja\\\" oder 0 für \\\"Nein\\\" ein.'))\n",
    "        if input=='1':\n",
    "            state=True\n",
    "        elif input=='0':\n",
    "            state=False\n",
    "        else:\n",
    "            print('Ungültige Eingabe')\n",
    "else:\n",
    "    print('Spiel wurde beendet :(')"
   ]
  },
  {
   "cell_type": "code",
   "execution_count": 112,
   "metadata": {},
   "outputs": [
    {
     "name": "stdout",
     "output_type": "stream",
     "text": [
      "---------------------------\n",
      "----- { Zahlenraten } -----\n",
      "Versuche mit möglichst wenig\n",
      "ver-suchen die unbekannte Zahl\n",
      "zu erraten\n",
      "\n",
      "Die Zahl ist zu klein!\n",
      "Die Zahl ist zu klein!\n",
      "Die Zahl ist zu groß!\n",
      "Die Zahl ist zu groß!\n",
      "Die Zahl ist zu klein!\n",
      "Die Zahl ist zu groß!\n",
      "* + * + * + * + * + * + *\n",
      "GEWONNEN! Du hast die Zahl erraten!\n",
      "* + * + * + * + * + * + *\n",
      "\n",
      "----- { Spiel Ende } -----\n",
      "---------------------------\n"
     ]
    }
   ],
   "source": [
    "# 5.3 Musterlösung\n",
    "Zahl_min=0 # unteres Limit der Zufallszahlen \n",
    "Zahl_max=100 # oberes Limit der Zufallszahlen # erzeugen der Zufallszahl \n",
    "Zufallszahl=np.random.uniform(Zahl_min,Zahl_max) # die Zufallszahl wir mit np.ceil abgerundet # und mit int() in einen Interger Wert umgewandelt \n",
    "a=int(np.ceil(Zufallszahl))\n",
    "print('---------------------------') \n",
    "print(\"----- { Zahlenraten } -----\\nVersuche mit möglichst wenig\\nver-suchen die unbekannte Zahl\\nzu erraten\") \n",
    "print() \n",
    "b=float(input(\"Rate die unbekannte Zahl:\\n\")) \n",
    "while a!=b: \n",
    "    if a<b: \n",
    "        print(\"Die Zahl ist zu groß!\")\n",
    "    elif a>b: \n",
    "        print(\"Die Zahl ist zu klein!\") \n",
    "    b=float(input(\"neuer Versuch:\\n\")) \n",
    "else: \n",
    "    print('* + * + * + * + * + * + *') \n",
    "    print(\"GEWONNEN! Du hast die Zahl erraten!\") \n",
    "    print('* + * + * + * + * + * + *') \n",
    "    print()\n",
    "    print('----- { Spiel Ende } -----') \n",
    "    print('---------------------------')"
   ]
  },
  {
   "cell_type": "code",
   "execution_count": 116,
   "metadata": {},
   "outputs": [
    {
     "name": "stdout",
     "output_type": "stream",
     "text": [
      "Sie spielen das Böse-1 Spiel\n",
      "3\n",
      "Die aktuelle Punktazhl lautet: 3\n",
      "2\n",
      "Die aktuelle Punktazhl lautet: 5\n",
      "4\n",
      "Die aktuelle Punktazhl lautet: 9\n",
      "3\n",
      "Die aktuelle Punktazhl lautet: 12\n",
      "5\n",
      "Die aktuelle Punktazhl lautet: 17\n",
      "Würfel: 1\n",
      "Sie haben verloren!\n",
      "Herzlichen Glückwunsch! Sie haben 0 Punkte er-reicht!\n"
     ]
    }
   ],
   "source": [
    "#5.4 Die Böse eins\n",
    "weiter = True \n",
    "Punktzahl = 0 \n",
    "print('Sie spielen das Böse-1 Spiel') \n",
    "while weiter: \n",
    "    antwort = input('Würfeln? ja oder nein... ') \n",
    "    if antwort == 'nein': \n",
    "        break \n",
    "    wurf = np.random.randint(1,6) \n",
    "    if wurf == 1:\n",
    "        print('Würfel: '+str(wurf)) \n",
    "        print('Sie haben verloren!') \n",
    "        Punktzahl = 0 \n",
    "        break\n",
    "    else: \n",
    "        print(wurf) \n",
    "        Punktzahl += wurf \n",
    "        print(f'Die aktuelle Punktazhl lautet: {Punktzahl}') \n",
    "\n",
    "print(f'Herzlichen Glückwunsch! Sie haben {Punktzahl} Punkte er-reicht!')\n"
   ]
  },
  {
   "cell_type": "code",
   "execution_count": null,
   "metadata": {},
   "outputs": [],
   "source": []
  }
 ],
 "metadata": {
  "kernelspec": {
   "display_name": "Python 3.10.0 64-bit",
   "language": "python",
   "name": "python3"
  },
  "language_info": {
   "codemirror_mode": {
    "name": "ipython",
    "version": 3
   },
   "file_extension": ".py",
   "mimetype": "text/x-python",
   "name": "python",
   "nbconvert_exporter": "python",
   "pygments_lexer": "ipython3",
   "version": "3.10.0 (tags/v3.10.0:b494f59, Oct  4 2021, 19:00:18) [MSC v.1929 64 bit (AMD64)]"
  },
  "orig_nbformat": 4,
  "vscode": {
   "interpreter": {
    "hash": "98c13d5e91fc9a86e6a18b532ee236e7f7e3091a6fcf80864a95daf9b6a22ec6"
   }
  }
 },
 "nbformat": 4,
 "nbformat_minor": 2
}
