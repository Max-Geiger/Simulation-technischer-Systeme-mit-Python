{
 "cells": [
  {
   "cell_type": "code",
   "execution_count": 1,
   "metadata": {},
   "outputs": [],
   "source": [
    "#Import\n",
    "import numpy as np\n",
    "import matplotlib.pyplot as plt\n",
    "import re\n",
    "from math import *\n",
    "from openpyxl import load_workbook\n",
    "from openpyxl import Workbook as workbook\n",
    "import openpyxl as opx\n",
    "import cryptocode\n",
    "import pandas as pd\n",
    "from scipy.misc import derivative\n",
    "from sympy import *\n"
   ]
  },
  {
   "cell_type": "code",
   "execution_count": null,
   "metadata": {},
   "outputs": [
    {
     "name": "stdout",
     "output_type": "stream",
     "text": [
      "['Vorwissenin Python: 3 von 10', 'Weitere Programmiersprachen: c++', 'Erwartung an Vl: Python besser lernen']\n"
     ]
    }
   ],
   "source": [
    "#A2.0\n",
    "dic = {'Max': [\"Vorwissenin Python: 3 von 10\", \"Weitere Programmiersprachen: c++\", \"Erwartung an Vl: Python besser lernen\"]}\n",
    "print(dic['Max'])"
   ]
  },
  {
   "cell_type": "code",
   "execution_count": null,
   "metadata": {},
   "outputs": [
    {
     "name": "stdout",
     "output_type": "stream",
     "text": [
      "[[  1   2   3   4   5   6   7   8   9  10]\n",
      " [  2   4   6   8  10  12  14  16  18  20]\n",
      " [  3   6   9  12  15  18  21  24  27  30]\n",
      " [  4   8  12  16  20  24  28  32  36  40]\n",
      " [  5  10  15  20  25  30  35  40  45  50]\n",
      " [  6  12  18  24  30  36  42  48  54  60]\n",
      " [  7  14  21  28  35  42  49  56  63  70]\n",
      " [  8  16  24  32  40  48  56  64  72  80]\n",
      " [  9  18  27  36  45  54  63  72  81  90]\n",
      " [ 10  20  30  40  50  60  70  80  90 100]]\n",
      "1\t2\t3\t4\t5\t6\t7\t8\t9\t\n",
      "2\t4\t6\t8\t10\t12\t14\t16\t18\t\n",
      "3\t6\t9\t12\t15\t18\t21\t24\t27\t\n",
      "4\t8\t12\t16\t20\t24\t28\t32\t36\t\n",
      "5\t10\t15\t20\t25\t30\t35\t40\t45\t\n",
      "6\t12\t18\t24\t30\t36\t42\t48\t54\t\n",
      "7\t14\t21\t28\t35\t42\t49\t56\t63\t\n",
      "8\t16\t24\t32\t40\t48\t56\t64\t72\t\n",
      "9\t18\t27\t36\t45\t54\t63\t72\t81\t\n",
      "\n"
     ]
    }
   ],
   "source": [
    "#A2.1\n",
    "\n",
    "a=[1,2,3,4,5,6,7,8,9,10]\n",
    "Matrix = []\n",
    "\n",
    "for x in a:\n",
    "    Matrix.append(np.array(a)*x)\n",
    "Matrix = np.array(Matrix)\n",
    "print(Matrix)\n",
    "\n",
    "\n",
    "string = '' \n",
    "for j in range(1,10): \n",
    "    for i in range(1,10): \n",
    "        string += str(j*i) + '\\t' \n",
    "    string += '\\n'\n",
    "print(string)\n"
   ]
  },
  {
   "cell_type": "code",
   "execution_count": null,
   "metadata": {},
   "outputs": [
    {
     "name": "stdout",
     "output_type": "stream",
     "text": [
      "56.756.756.7.452.34534.7.65.845.35.345.37.56.3.3.523.1.235.135.57.857.845.745.632.56.58.568.5.1\n",
      "56,756,756,7,452,34534,7,65,845,35,345,37,56,3,3,523,1,235,135,57,857,845,745,632,56,58,568,5,1\n",
      "56.756.756.7.452.34534.7.65.845.35.345.37.56.3.3.523.1.235.135.57.857.845.745.632.56.58.568.5.1\n"
     ]
    }
   ],
   "source": [
    "#A2.2\n",
    "A = '56,756,756,7,452,34534,7,65,845,35,345,37,56,3,3,523,1,235,135,57,857,845,745,632,56,58,568,5,1'\n",
    "\n",
    "res = re.split(',', A) \n",
    "mySeparator = \".\"\n",
    "x = mySeparator.join(res)\n",
    "print(x)"
   ]
  },
  {
   "cell_type": "code",
   "execution_count": null,
   "metadata": {},
   "outputs": [
    {
     "name": "stdout",
     "output_type": "stream",
     "text": [
      "56.756.756.7.452.34534.7.65.845.35.345.37.56.3.3.523.1.235.135.57.857.845.745.632.56.58.568.5.1\n"
     ]
    }
   ],
   "source": [
    "#A2.2\n",
    "sstring = '56,756,756,7,452,34534,7,65,845,35,345,37,56,3,3,523,1,235,135,57,857,845,745,632,56,58,568,5,1'\n",
    "strin_neu = sstring.replace(',','.')\n",
    "print(strin_neu)\n",
    "\n",
    "# string = '56,756,756,7,452,34534,7,65,845,35,345,37,56,3,3,523,1,235,135,57,857,845,745,632,56,58,568,5,1' \n",
    "# print(string) \n",
    "# string = string.replace(',','.') \n",
    "# print(string)"
   ]
  },
  {
   "cell_type": "code",
   "execution_count": null,
   "metadata": {},
   "outputs": [
    {
     "name": "stdout",
     "output_type": "stream",
     "text": [
      "[1.0, 1.1, 1.2000000000000002, 1.3000000000000003, 1.4000000000000004, 1.5000000000000004, 1.6000000000000005, 1.7000000000000006, 1.8000000000000007, 1.9000000000000008, 2.000000000000001, 2.100000000000001, 2.200000000000001, 2.300000000000001, 2.4000000000000012, 2.5000000000000013, 2.6000000000000014, 2.7000000000000015, 2.8000000000000016, 2.9000000000000017, 3.0000000000000018, 3.100000000000002, 3.200000000000002, 3.300000000000002, 3.400000000000002, 3.500000000000002, 3.6000000000000023, 3.7000000000000024, 3.8000000000000025, 3.9000000000000026, 4.000000000000003, 4.100000000000003, 4.200000000000003, 4.3000000000000025, 4.400000000000003, 4.5000000000000036, 4.600000000000003, 4.700000000000003, 4.800000000000003, 4.900000000000004, 5.0000000000000036, 5.100000000000003, 5.200000000000004, 5.300000000000004, 5.400000000000004, 5.5000000000000036, 5.600000000000004, 5.700000000000005, 5.800000000000004, 5.900000000000004, 6.000000000000004, 6.100000000000005, 6.200000000000005, 6.300000000000004, 6.400000000000005, 6.500000000000005, 6.600000000000005, 6.700000000000005, 6.800000000000005, 6.900000000000006, 7.000000000000005, 7.100000000000005, 7.2000000000000055, 7.300000000000006, 7.400000000000006, 7.500000000000005, 7.600000000000006, 7.700000000000006, 7.800000000000006, 7.900000000000006, 8.000000000000007, 8.100000000000007, 8.200000000000006, 8.300000000000006, 8.400000000000006, 8.500000000000007, 8.600000000000007, 8.700000000000006, 8.800000000000008, 8.900000000000007, 9.000000000000007, 9.100000000000007, 9.200000000000006, 9.300000000000008, 9.400000000000007, 9.500000000000007, 9.600000000000009, 9.700000000000008, 9.800000000000008, 9.900000000000007, 10.000000000000007, 10.100000000000009, 10.200000000000008, 10.300000000000008, 10.40000000000001, 10.500000000000009, 10.600000000000009, 10.700000000000008, 10.800000000000008, 10.90000000000001, 11.000000000000009, 11.100000000000009, 11.20000000000001, 11.30000000000001, 11.40000000000001, 11.500000000000009, 11.600000000000009, 11.70000000000001, 11.80000000000001, 11.90000000000001, 12.00000000000001, 12.10000000000001, 12.20000000000001, 12.30000000000001, 12.40000000000001, 12.50000000000001, 12.60000000000001, 12.70000000000001, 12.800000000000011, 12.900000000000011, 13.00000000000001, 13.10000000000001, 13.20000000000001, 13.300000000000011, 13.400000000000011, 13.50000000000001, 13.600000000000012, 13.700000000000012, 13.800000000000011, 13.900000000000011, 14.00000000000001, 14.100000000000012, 14.200000000000012, 14.300000000000011, 14.400000000000013, 14.500000000000012, 14.600000000000012, 14.700000000000012, 14.800000000000011, 14.900000000000013, 15.000000000000012, 15.100000000000012, 15.200000000000014, 15.300000000000013, 15.400000000000013, 15.500000000000012, 15.600000000000012, 15.700000000000014, 15.800000000000013, 15.900000000000013, 16.000000000000014, 16.100000000000016, 16.200000000000014, 16.30000000000001, 16.400000000000013, 16.500000000000014, 16.600000000000016, 16.700000000000014, 16.800000000000015, 16.900000000000013, 17.000000000000014, 17.100000000000016, 17.200000000000014, 17.300000000000015, 17.400000000000013, 17.500000000000014, 17.600000000000016, 17.700000000000014, 17.800000000000015, 17.900000000000016, 18.000000000000014, 18.100000000000016, 18.200000000000017, 18.300000000000015, 18.400000000000016, 18.500000000000014, 18.600000000000016, 18.700000000000017, 18.800000000000015, 18.900000000000016, 19.000000000000014, 19.100000000000016, 19.200000000000017, 19.300000000000015, 19.400000000000016, 19.500000000000018, 19.600000000000016, 19.700000000000017, 19.80000000000002, 19.900000000000016, 20.000000000000018, 20.100000000000016, 20.200000000000017, 20.30000000000002, 20.400000000000016, 20.500000000000018, 20.600000000000016, 20.700000000000017, 20.80000000000002, 20.900000000000016, 21.000000000000018, 21.10000000000002, 21.200000000000017, 21.30000000000002, 21.40000000000002, 21.500000000000018, 21.60000000000002, 21.700000000000017, 21.80000000000002, 21.90000000000002, 22.000000000000018, 22.10000000000002, 22.200000000000017, 22.30000000000002, 22.40000000000002, 22.500000000000018, 22.60000000000002, 22.70000000000002, 22.80000000000002, 22.90000000000002, 23.00000000000002, 23.10000000000002, 23.20000000000002, 23.30000000000002, 23.40000000000002, 23.50000000000002, 23.60000000000002, 23.70000000000002, 23.80000000000002, 23.90000000000002, 24.00000000000002, 24.10000000000002, 24.20000000000002, 24.300000000000022, 24.40000000000002, 24.50000000000002, 24.600000000000023, 24.70000000000002, 24.800000000000022, 24.90000000000002, 25.00000000000002, 25.100000000000023, 25.20000000000002, 25.300000000000022, 25.40000000000002, 25.50000000000002, 25.600000000000023, 25.70000000000002, 25.800000000000022, 25.900000000000023, 26.00000000000002, 26.100000000000023, 26.200000000000024, 26.300000000000022, 26.400000000000023, 26.50000000000002, 26.600000000000023, 26.700000000000024, 26.800000000000022, 26.900000000000023, 27.00000000000002, 27.100000000000023, 27.200000000000024, 27.300000000000022, 27.400000000000023, 27.500000000000025, 27.600000000000023, 27.700000000000024, 27.800000000000026, 27.900000000000023, 28.000000000000025, 28.100000000000023, 28.200000000000024, 28.300000000000026, 28.400000000000023, 28.500000000000025, 28.600000000000023, 28.700000000000024, 28.800000000000026, 28.900000000000023, 29.000000000000025, 29.100000000000026, 29.200000000000024, 29.300000000000026, 29.400000000000027, 29.500000000000025, 29.600000000000026, 29.700000000000024, 29.800000000000026, 29.900000000000027, 30.000000000000025, 30.100000000000026, 30.200000000000024, 30.300000000000026, 30.400000000000027, 30.500000000000025, 30.600000000000026, 30.700000000000028, 30.800000000000026, 30.900000000000027, 31.00000000000003, 31.100000000000026, 31.200000000000028, 31.300000000000026, 31.400000000000027, 31.50000000000003, 31.600000000000026, 31.700000000000028, 31.800000000000026, 31.900000000000027, 32.00000000000003, 32.10000000000002, 32.20000000000003, 32.300000000000026, 32.40000000000003, 32.50000000000003, 32.60000000000003, 32.70000000000003, 32.800000000000026, 32.90000000000003, 33.00000000000003, 33.10000000000003, 33.20000000000003, 33.300000000000026, 33.40000000000003, 33.50000000000003, 33.60000000000003, 33.70000000000003, 33.800000000000026, 33.90000000000003, 34.00000000000003, 34.10000000000003, 34.20000000000003, 34.30000000000003, 34.40000000000003, 34.50000000000003, 34.60000000000003, 34.70000000000003, 34.80000000000003, 34.90000000000003, 35.00000000000003, 35.10000000000003, 35.20000000000003, 35.30000000000003, 35.400000000000034, 35.50000000000003, 35.60000000000003, 35.70000000000003, 35.80000000000003, 35.900000000000034, 36.00000000000003, 36.10000000000003, 36.20000000000003, 36.30000000000003, 36.400000000000034, 36.50000000000003, 36.60000000000003, 36.70000000000003, 36.80000000000003, 36.900000000000034, 37.00000000000003, 37.10000000000003, 37.20000000000003, 37.30000000000003, 37.400000000000034, 37.500000000000036, 37.60000000000003, 37.70000000000003, 37.80000000000003, 37.900000000000034, 38.000000000000036, 38.10000000000003, 38.20000000000003, 38.30000000000003, 38.400000000000034, 38.500000000000036, 38.60000000000004, 38.70000000000003, 38.80000000000003, 38.900000000000034, 39.000000000000036, 39.10000000000004, 39.20000000000003, 39.30000000000003, 39.400000000000034, 39.500000000000036, 39.60000000000004, 39.70000000000003, 39.80000000000003, 39.900000000000034, 40.000000000000036, 40.10000000000004, 40.20000000000003, 40.30000000000003, 40.400000000000034, 40.500000000000036, 40.60000000000004, 40.70000000000004, 40.80000000000003, 40.900000000000034, 41.000000000000036, 41.10000000000004, 41.20000000000004, 41.30000000000003, 41.400000000000034, 41.500000000000036, 41.60000000000004, 41.70000000000004, 41.80000000000004, 41.900000000000034, 42.000000000000036]\n"
     ]
    }
   ],
   "source": [
    "#A2.3\n",
    "#Erstellen Sie eine Liste von Zahlen von 1 bis 42 mit einer Schrittweite von 0,1.\n",
    "y = list(np.arange(1, 42.1, 0.1))\n",
    "print(y)\n",
    "\n",
    "num = 1 \n",
    "liste = [] \n",
    "while num < 42: \n",
    "    liste.append(num) \n",
    "    num += 0.1"
   ]
  },
  {
   "cell_type": "code",
   "execution_count": null,
   "metadata": {},
   "outputs": [
    {
     "name": "stdout",
     "output_type": "stream",
     "text": [
      "[38, 19, 10, 42, 45, 37, 2, 44, 48, 32, 18, 4, 17, 41, 44, 31, 43, 31, 27, 41, 32, 12, 43, 37, 47, 19, 4, 7, 27, 26]\n",
      "[19, 42, 45, 37, 17, 41, 44, 31, 43, 31, 27, 41, 32, 12, 43, 37, 47, 19, 4, 7, 27]\n"
     ]
    }
   ],
   "source": [
    "#A2.4\n",
    "arr1 = np.random.randint(low=1, high=50, size = 30)\n",
    "list1 = arr1.tolist()\n",
    "\n",
    "print(list1)\n",
    "\n",
    "for ele in list1:\n",
    "    if ele % 2 == 0:\n",
    "        list1.remove(ele)\n",
    "\n",
    "print(list1)\n",
    "\n",
    "# liste = [] \n",
    "# for i in range(100): \n",
    "#     liste.append(random.randint(1,1000)) \n",
    "\n",
    "# def deleteEven(liste1): \n",
    "#     ausgabeListe = [] \n",
    "#     for i in range(len(liste1)): \n",
    "#         if liste1[i]%2!=0: \n",
    "#             ausgabeListe.append(liste1[i]) \n",
    "#         return ausgabeListe\n",
    "# test = deleteEven(liste)\n"
   ]
  },
  {
   "cell_type": "code",
   "execution_count": null,
   "metadata": {},
   "outputs": [
    {
     "name": "stdout",
     "output_type": "stream",
     "text": [
      "[4, 6, 6, 5, 5, 4, 6, 4, 4, 4, 4, 4, 5, 5, 4, 5, 5, 6, 6, 6, 5, 4, 4, 4, 4, 6, 6, 6, 5, 4]\n",
      "[4, 6, 6, 4, 6, 4, 4, 4, 4, 4, 4, 6, 6, 6, 4, 4, 4, 4, 6, 6, 6, 4]\n"
     ]
    }
   ],
   "source": [
    "#A2.5\n",
    "arr1 = np.random.randint(low=4, high=7, size = 30)\n",
    "list1 = arr1.tolist()\n",
    "list1_neu = []\n",
    "\n",
    "böse_Zahl = 5\n",
    "\n",
    "\n",
    "for ele in list1:\n",
    "    if ele  != böse_Zahl:\n",
    "        list1_neu.append(ele)\n",
    "print(list1)\n",
    "print(list1_neu)\n",
    "\n",
    "# liste = [] \n",
    "# for i in range(100): \n",
    "#     liste.append(random.randint(1,10)) \n",
    "\n",
    "# Zahl = 11 \n",
    "# for i in range(liste.count(Zahl)): \n",
    "#     liste.remove(Zahl)"
   ]
  },
  {
   "cell_type": "code",
   "execution_count": null,
   "metadata": {},
   "outputs": [
    {
     "name": "stdout",
     "output_type": "stream",
     "text": [
      "oEoaBnp2v1Jr8KZUb/4yJSo+qslEw7uY8kqlexVkbfAEj78YdqDQjf9pKv3T8o18J+O6FlpqJX7UbxUU4bs=*brFbiqTBB2hX1ob8YXrV9A==*POGAJISk2ArHJt9kXqNxSQ==*mN3ConcxP+sZjn1RNMbuJg==\n",
      "Das stimmt, Python ist wirklich eine tolle Programmiersprache!\n"
     ]
    }
   ],
   "source": [
    "#A2.6\n",
    "#Verschlüsselte Nachricht: „Das stimmt, Python ist wirklich eine tolle Programmiersprache!“\n",
    "str_encoded = cryptocode.encrypt(\"Das stimmt, Python ist wirklich eine tolle Programmiersprache!\",\"Kompl1z!ert\")\n",
    "print(str_encoded)\n",
    "## And then to decode it:\n",
    "str_decoded = cryptocode.decrypt(str_encoded, \"Kompl1z!ert\")\n",
    "print(str_decoded)"
   ]
  },
  {
   "cell_type": "code",
   "execution_count": null,
   "metadata": {},
   "outputs": [
    {
     "name": "stdout",
     "output_type": "stream",
     "text": [
      "hallo+welt+du+drei\n",
      "hallo+welt+du+drei\n"
     ]
    }
   ],
   "source": [
    "#A2.7\n",
    "\n",
    "A = 'hallo,welt,du,drei'\n",
    "B = ['hallo','welt','du','drei']\n",
    "\n",
    "res = re.split(',', A) \n",
    "mySeparator = \"+\"\n",
    "x = mySeparator.join(res)\n",
    "\n",
    "print(*B, sep = \"+\")\n",
    "print(x)"
   ]
  },
  {
   "cell_type": "code",
   "execution_count": null,
   "metadata": {},
   "outputs": [
    {
     "name": "stdout",
     "output_type": "stream",
     "text": [
      "1 kommt 2 mal vor.\n"
     ]
    }
   ],
   "source": [
    "#A2.8\n",
    "x = int(input('Zahl'))\n",
    "list1 = (1,2,3,4,5,6,7,8,9,10,1,2,3,4,5,6)\n",
    "Tuple1 = (1,2,3)\n",
    "Tuple2 = tuple(list1) # Tupel aus Liste erstellen\n",
    "y = Tuple2.count(x)\n",
    "print(x, 'kommt', y, 'mal vor.')\n"
   ]
  },
  {
   "cell_type": "code",
   "execution_count": null,
   "metadata": {},
   "outputs": [
    {
     "name": "stdout",
     "output_type": "stream",
     "text": [
      "5\n",
      "3\n"
     ]
    }
   ],
   "source": [
    "#A2.9\n",
    "Würfeln = True\n",
    "while Würfeln == True:\n",
    "    print(np.random.randint(1,6))\n",
    "    x = input('Gib 1 für ein erneutes Würfel und 0 für das Beenden des Programmes ein.')\n",
    "    if x == '0':\n",
    "        Würfeln = False\n",
    "    "
   ]
  },
  {
   "cell_type": "code",
   "execution_count": null,
   "metadata": {},
   "outputs": [
    {
     "data": {
      "text/plain": [
       "{'Zeit': {0: 0.0,\n",
       "  1: 0.1,\n",
       "  2: 0.2,\n",
       "  3: 0.3,\n",
       "  4: 0.4,\n",
       "  5: 0.5,\n",
       "  6: 0.6,\n",
       "  7: 0.7,\n",
       "  8: 0.8,\n",
       "  9: 0.9,\n",
       "  10: 1.0,\n",
       "  11: 1.1,\n",
       "  12: 1.2,\n",
       "  13: 1.3,\n",
       "  14: 1.4,\n",
       "  15: 1.5,\n",
       "  16: 1.6,\n",
       "  17: 1.7,\n",
       "  18: 1.8,\n",
       "  19: 1.9,\n",
       "  20: 2.0,\n",
       "  21: 2.1,\n",
       "  22: 2.2,\n",
       "  23: 2.3,\n",
       "  24: 2.4,\n",
       "  25: 2.5,\n",
       "  26: 2.6,\n",
       "  27: 2.7,\n",
       "  28: 2.8,\n",
       "  29: 2.9,\n",
       "  30: 3.0,\n",
       "  31: 3.1,\n",
       "  32: 3.2,\n",
       "  33: 3.3,\n",
       "  34: 3.4,\n",
       "  35: 3.5,\n",
       "  36: 3.6,\n",
       "  37: 3.7,\n",
       "  38: 3.8,\n",
       "  39: 3.9,\n",
       "  40: 4.0,\n",
       "  41: 4.1,\n",
       "  42: 4.2,\n",
       "  43: 4.3,\n",
       "  44: 4.4,\n",
       "  45: 4.5,\n",
       "  46: 4.6,\n",
       "  47: 4.7,\n",
       "  48: 4.8,\n",
       "  49: 4.9,\n",
       "  50: 5.0,\n",
       "  51: 5.1,\n",
       "  52: 5.2,\n",
       "  53: 5.3,\n",
       "  54: 5.4,\n",
       "  55: 5.5,\n",
       "  56: 5.6,\n",
       "  57: 5.7,\n",
       "  58: 5.8,\n",
       "  59: 5.9,\n",
       "  60: 6.0,\n",
       "  61: 6.1,\n",
       "  62: 6.2},\n",
       " 'Sensor1': {0: 0.0,\n",
       "  1: 0.09983341664682815,\n",
       "  2: 0.19866933079506122,\n",
       "  3: 0.29552020666133955,\n",
       "  4: 0.3894183423086505,\n",
       "  5: 0.479425538604203,\n",
       "  6: 0.5646424733950354,\n",
       "  7: 0.644217687237691,\n",
       "  8: 0.7173560908995228,\n",
       "  9: 0.7833269096274834,\n",
       "  10: 0.8414709848078965,\n",
       "  11: 0.8912073600614354,\n",
       "  12: 0.9320390859672263,\n",
       "  13: 0.963558185417193,\n",
       "  14: 0.9854497299884601,\n",
       "  15: 0.9974949866040544,\n",
       "  16: 0.9995736030415051,\n",
       "  17: 0.9916648104524686,\n",
       "  18: 0.9738476308781951,\n",
       "  19: 0.9463000876874145,\n",
       "  20: 0.9092974268256817,\n",
       "  21: 0.8632093666488737,\n",
       "  22: 0.8084964038195901,\n",
       "  23: 0.7457052121767203,\n",
       "  24: 0.675463180551151,\n",
       "  25: 0.5984721441039565,\n",
       "  26: 0.5155013718214642,\n",
       "  27: 0.4273798802338298,\n",
       "  28: 0.3349881501559051,\n",
       "  29: 0.23924932921398243,\n",
       "  30: 0.1411200080598672,\n",
       "  31: 0.04158066243329049,\n",
       "  32: -0.058374143427580086,\n",
       "  33: -0.1577456941432482,\n",
       "  34: -0.2555411020268312,\n",
       "  35: -0.35078322768961984,\n",
       "  36: -0.44252044329485246,\n",
       "  37: -0.5298361409084934,\n",
       "  38: -0.6118578909427189,\n",
       "  39: -0.6877661591839738,\n",
       "  40: -0.7568024953079282,\n",
       "  41: -0.8182771110644103,\n",
       "  42: -0.8715757724135882,\n",
       "  43: -0.9161659367494549,\n",
       "  44: -0.951602073889516,\n",
       "  45: -0.977530117665097,\n",
       "  46: -0.9936910036334644,\n",
       "  47: -0.9999232575641008,\n",
       "  48: -0.9961646088358407,\n",
       "  49: -0.9824526126243325,\n",
       "  50: -0.9589242746631385,\n",
       "  51: -0.9258146823277325,\n",
       "  52: -0.8834546557201531,\n",
       "  53: -0.8322674422239013,\n",
       "  54: -0.7727644875559871,\n",
       "  55: -0.7055403255703919,\n",
       "  56: -0.6312666378723216,\n",
       "  57: -0.5506855425976376,\n",
       "  58: -0.46460217941375737,\n",
       "  59: -0.373876664830236,\n",
       "  60: -0.27941549819892586,\n",
       "  61: -0.18216250427209588,\n",
       "  62: -0.0830894028174964},\n",
       " 'Sensor2': {0: 1.0,\n",
       "  1: 0.9950041652780258,\n",
       "  2: 0.9800665778412416,\n",
       "  3: 0.955336489125606,\n",
       "  4: 0.9210609940028851,\n",
       "  5: 0.8775825618903728,\n",
       "  6: 0.8253356149096783,\n",
       "  7: 0.7648421872844885,\n",
       "  8: 0.6967067093471654,\n",
       "  9: 0.6216099682706644,\n",
       "  10: 0.5403023058681398,\n",
       "  11: 0.4535961214255773,\n",
       "  12: 0.3623577544766736,\n",
       "  13: 0.26749882862458735,\n",
       "  14: 0.16996714290024104,\n",
       "  15: 0.0707372016677029,\n",
       "  16: -0.029199522301288815,\n",
       "  17: -0.12884449429552464,\n",
       "  18: -0.2272020946930871,\n",
       "  19: -0.32328956686350335,\n",
       "  20: -0.4161468365471424,\n",
       "  21: -0.5048461045998576,\n",
       "  22: -0.5885011172553458,\n",
       "  23: -0.6662760212798241,\n",
       "  24: -0.7373937155412454,\n",
       "  25: -0.8011436155469337,\n",
       "  26: -0.8568887533689473,\n",
       "  27: -0.9040721420170612,\n",
       "  28: -0.9422223406686581,\n",
       "  29: -0.9709581651495905,\n",
       "  30: -0.9899924966004454,\n",
       "  31: -0.9991351502732795,\n",
       "  32: -0.9982947757947531,\n",
       "  33: -0.9874797699088649,\n",
       "  34: -0.9667981925794611,\n",
       "  35: -0.9364566872907963,\n",
       "  36: -0.896758416334147,\n",
       "  37: -0.848100031710408,\n",
       "  38: -0.7909677119144168,\n",
       "  39: -0.7259323042001402,\n",
       "  40: -0.6536436208636119,\n",
       "  41: -0.5748239465332692,\n",
       "  42: -0.4902608213406994,\n",
       "  43: -0.40079917207997545,\n",
       "  44: -0.30733286997841935,\n",
       "  45: -0.2107957994307797,\n",
       "  46: -0.11215252693505487,\n",
       "  47: -0.01238866346289056,\n",
       "  48: 0.0874989834394464,\n",
       "  49: 0.18651236942257576,\n",
       "  50: 0.28366218546322625,\n",
       "  51: 0.37797774271298024,\n",
       "  52: 0.4685166713003771,\n",
       "  53: 0.5543743361791608,\n",
       "  54: 0.6346928759426347,\n",
       "  55: 0.70866977429126,\n",
       "  56: 0.7755658785102496,\n",
       "  57: 0.8347127848391598,\n",
       "  58: 0.8855195169413189,\n",
       "  59: 0.9274784307440359,\n",
       "  60: 0.960170286650366,\n",
       "  61: 0.9832684384425845,\n",
       "  62: 0.9965420970232175}}"
      ]
     },
     "execution_count": 14,
     "metadata": {},
     "output_type": "execute_result"
    }
   ],
   "source": [
    "#A2.10\n",
    "file_path = 'MeineDaten.xlsx'\n",
    "df = pd.read_excel(file_path)\n",
    "#print(df)\n",
    "df.to_dict()"
   ]
  },
  {
   "cell_type": "code",
   "execution_count": null,
   "metadata": {},
   "outputs": [
    {
     "name": "stdout",
     "output_type": "stream",
     "text": [
      "[0.0, 0.009966711079379185, 0.039469502998557456, 0.08733219254516086, 0.1516466453264173, 0.22984884706593015, 0.31882112276166336, 0.41501642854987963, 0.5145997611506444, 0.6136010473465435, 0.7080734182735712, 0.794250558627673, 0.8686968577706229, 0.9284443766844737, 0.9711111703343293, 0.9949962483002227, 0.9991473878973764, 0.9833990962897304, 0.9483792081670734, 0.8954838559572084, 0.826821810431806, 0.7451304106703497, 0.6536664349892097, 0.556076263467527, 0.4562505082802763, 0.3581689072683868, 0.26574166434981145, 0.1826535620286827, 0.11221706074487493, 0.05724024152934033, 0.01991485667481699, 0.001728951488391255, 0.0034075406209036914, 0.024883704020735354, 0.0653012548250876, 0.12304887282834767, 0.19582434273387272, 0.28072633621280485, 0.3743700787088725, 0.4730222897186756, 0.5727500169043067, 0.6695774304919181, 0.7596443270583428, 0.8393600236600062, 0.9055465070308281, 0.9555651309423384, 0.987421810702082, 0.9998465210176032, 0.9923439278970633, 0.9652131360523767, 0.9195357645382262, 0.8571328260135995, 0.7804921287136143, 0.692669095385914, 0.5971649532276674, 0.49778715100597465, 0.39849756809062387, 0.3032545668260545, 0.21585518511601245, 0.13978376050458063, 0.07807302063375395, 0.03318317796268103, 0.006903848860568178]\n"
     ]
    }
   ],
   "source": [
    "#A2.11\n",
    "y = [] \n",
    "t = np.arange(0,2*np.pi,0.1) \n",
    "\n",
    "for i in range(0,63):\n",
    "    y.append(np.sin(t[i])**2) \n",
    "print(y)\n",
    "\n",
    "\n",
    "\n",
    "# initialize an excel file object \n",
    "wb = opx.Workbook() \n",
    "ws = wb.active\n",
    "# add a sheetname \n",
    "ws.title = 'Funktion'\n",
    "# write first line \n",
    "ws['A1']='t-Werte'\n",
    "ws['B1']='Y-Werte von sin^2(x)'\n",
    "# write data to excel file \n",
    "for n in range(len(t)): \n",
    "    ws.append([t[n],y[n]])\n",
    "# save excel file\n",
    "wb.save(filename='Funktion.xlsx')\n",
    "\n",
    "\n",
    "\n",
    "# #save into an excel file \n",
    "# wb = opx.Workbook() \n",
    "# ws = wb.active \n",
    "# for num,(time,val) in enumerate(zip(t,y)): \n",
    "#     ws['A'+str(num+1)] = t[num] \n",
    "#     ws['B'+str(num+1)] = y[num] \n",
    "    \n",
    "# #fileName = r'C:\\Users\\pscholle\\Desktop\\sin2.xlsx' \n",
    "# #wb.save(fileName)\n"
   ]
  },
  {
   "cell_type": "code",
   "execution_count": 13,
   "metadata": {},
   "outputs": [
    {
     "data": {
      "image/png": "[encoded data removed]",
      "text/plain": [
       "<Figure size 432x288 with 1 Axes>"
      ]
     },
     "metadata": {
      "needs_background": "light"
     },
     "output_type": "display_data"
    }
   ],
   "source": [
    "#A2.13\n",
    "x = np.array([x*0.2 for x in range(51)])\n",
    "\n",
    "def Polynom(x,a=1.,b=1.,c=0.):\n",
    "    return (a*x**2 + b*x + c)\n",
    "\n",
    "fx = Polynom(x, 2,-10,40)\n",
    "\n",
    "def PolyDiff(x,fx):\n",
    "    y_diff=[]\n",
    "    for n in range(1,len(fx)-1):\n",
    "        y_diff.append((fx[n+1] - fx[n-1])/(2*(x[n+1]-x[n]))) \n",
    "    return y_diff\n",
    "\n",
    "y2_diff = PolyDiff(x,fx)\n",
    "\n",
    "plt.plot(x,fx,label=\"y1\") #Hier werden die Werte zum Plotten übergeben \n",
    "plt.plot(x[1:-1],y2_diff, label=\"y2'--\")\n",
    "plt.legend() \n",
    "plt.grid() \n",
    "plt.show()\n"
   ]
  },
  {
   "cell_type": "code",
   "execution_count": 25,
   "metadata": {},
   "outputs": [
    {
     "name": "stdout",
     "output_type": "stream",
     "text": [
      "2\n"
     ]
    }
   ],
   "source": [
    "#A2.14\n",
    "def someFunc(f1,f2,f3):\n",
    "    summe = f1+f2+f3\n",
    "    produkt = f1*f2*f3\n",
    "    maximal = max([f1,f2,f3])\n",
    "    minimal = min([f1,f2,f3])\n",
    "    return summe,produkt,[maximal,minimal]\n",
    "\n",
    "f1 = 2\n",
    "f2 = 3\n",
    "f3 = 4\n",
    "\n",
    "werte = someFunc(f1,f2,f3)\n",
    "(Summe,Produkt,[maxima, minima]) = someFunc(f1,f2,f3)\n",
    "print(minima)"
   ]
  },
  {
   "cell_type": "code",
   "execution_count": 3,
   "metadata": {},
   "outputs": [
    {
     "data": {
      "text/plain": [
       "{'Probe1': {'Zeit': '0-1-2-3-4-5-6-7-8-9-10-11-12-13-14-15-16-17-18-19-20',\n",
       "  'Wert': '0-0,1-0,4-0,6-0,3-0,2-0,4-0,2-0,6-0,4-2,2-2,1-0,2-1-1,2-0,3-0,7-2-0,9-1-1'}}"
      ]
     },
     "execution_count": 3,
     "metadata": {},
     "output_type": "execute_result"
    }
   ],
   "source": [
    "#A2.15\n",
    "#A2.10\n",
    "file_path = 'data_export.txt'\n",
    "df = pd.read_csv(file_path, sep=\" \")\n",
    "#print(df)\n",
    "df.to_dict()\n",
    "#df['Probe1']['Wert']"
   ]
  },
  {
   "cell_type": "code",
   "execution_count": 17,
   "metadata": {},
   "outputs": [
    {
     "name": "stdout",
     "output_type": "stream",
     "text": [
      "PYTHON MACHT SPASS!\n"
     ]
    }
   ],
   "source": [
    "#A2.16\n",
    "Text = 'SBWKRQ#PDFKW#VSDVV$'\n",
    "#Verschlüsselungsfunktion\n",
    "def encryption(text):\n",
    "    text = text.upper()\n",
    "    encrypted_message = ''\n",
    "    for character in text:\n",
    "        num = ord(character)\n",
    "        new_num = num + 3\n",
    "        if new_num > ord('Z'):\n",
    "            new_num = new_num - 26\n",
    "        new_character = chr(new_num)\n",
    "        encrypted_message = encrypted_message + new_character\n",
    "    return encrypted_message\n",
    "\n",
    "#Entschlüsselungsfunktion\n",
    "def decryption(crypt_text):\n",
    "    decrypted_message = ''\n",
    "    for character in crypt_text:\n",
    "        new_num = ord(character)\n",
    "        if new_num >= ord('A') and new_num <= ord('C'):\n",
    "            new_num +=23\n",
    "        else:\n",
    "            new_num-=3\n",
    "        new_character = chr(new_num)\n",
    "        decrypted_message = decrypted_message + new_character\n",
    "    return decrypted_message\n",
    "\n",
    "#Funktionsaufruf\n",
    "Botschaft = decryption(Text)\n",
    "print(Botschaft)"
   ]
  },
  {
   "cell_type": "code",
   "execution_count": null,
   "metadata": {},
   "outputs": [],
   "source": []
  }
 ],
 "metadata": {
  "kernelspec": {
   "display_name": "base",
   "language": "python",
   "name": "python3"
  },
  "language_info": {
   "codemirror_mode": {
    "name": "ipython",
    "version": 3
   },
   "file_extension": ".py",
   "mimetype": "text/x-python",
   "name": "python",
   "nbconvert_exporter": "python",
   "pygments_lexer": "ipython3",
   "version": "3.9.13 (main, Aug 25 2022, 18:29:29) \n[Clang 12.0.0 ]"
  },
  "orig_nbformat": 4,
  "vscode": {
   "interpreter": {
    "hash": "25fc70baad3005e3f4fcb99b28f31a4f2717801394a6f8a12d506d7c68753610"
   }
  }
 },
 "nbformat": 4,
 "nbformat_minor": 2
}
